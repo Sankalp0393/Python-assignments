{
 "cells": [
  {
   "cell_type": "markdown",
   "metadata": {},
   "source": [
    "### 1.\tWrite a Python Program to find sum of array?"
   ]
  },
  {
   "cell_type": "code",
   "execution_count": 1,
   "metadata": {},
   "outputs": [
    {
     "name": "stdout",
     "output_type": "stream",
     "text": [
      "Sum of all the elements of an array: 15\n"
     ]
    }
   ],
   "source": [
    "arr = [1, 2, 3, 4, 5]\n",
    "summation = 0\n",
    "\n",
    "# iterating through the array for calculating sum of elements\n",
    "for i in range(len(arr)):\n",
    "    summation = summation + arr[i]\n",
    "    \n",
    "print(\"Sum of all the elements of an array: \" + str(summation))"
   ]
  },
  {
   "cell_type": "code",
   "execution_count": 2,
   "metadata": {},
   "outputs": [
    {
     "name": "stdout",
     "output_type": "stream",
     "text": [
      "Sum of all the elements of an array: 490922\n"
     ]
    }
   ],
   "source": [
    "arr = [1, 2, 3, 4, 5, 6, 7, 99, 484, 484685, 594, 48, 4984]\n",
    "summation = 0\n",
    "\n",
    "# iterating through the array for calculating sum of elements\n",
    "for i in range(len(arr)):\n",
    "    summation = summation + arr[i]\n",
    "    \n",
    "print(\"Sum of all the elements of an array: \" + str(summation))"
   ]
  },
  {
   "cell_type": "markdown",
   "metadata": {},
   "source": [
    "### 2.\tWrite a Python Program to find largest element in an array?"
   ]
  },
  {
   "cell_type": "code",
   "execution_count": 10,
   "metadata": {},
   "outputs": [
    {
     "name": "stdout",
     "output_type": "stream",
     "text": [
      "The largest element in the given array is 98499794984\n"
     ]
    }
   ],
   "source": [
    "arr = [1, 98499794984, 3, 4, 5, 6, 7, 99, 484, 484685, 4984984984, 48, 4984]\n",
    "maxi = 0\n",
    "\n",
    "# iterating through the array for finding largest element\n",
    "for i in range(len(arr)):\n",
    "    if maxi > arr[i]:\n",
    "        pass\n",
    "    else:\n",
    "        maxi = arr[i]\n",
    "print(\"The largest element in the given array is {}\".format(maxi))"
   ]
  },
  {
   "cell_type": "markdown",
   "metadata": {},
   "source": [
    "### 3.\tWrite a Python Program for array rotation?"
   ]
  },
  {
   "cell_type": "code",
   "execution_count": 11,
   "metadata": {},
   "outputs": [],
   "source": [
    "def rotateList(arr,d,n):\n",
    "    arr[:]=arr[d:n]+arr[0:d]\n",
    "    return arr"
   ]
  },
  {
   "cell_type": "code",
   "execution_count": 12,
   "metadata": {},
   "outputs": [
    {
     "name": "stdout",
     "output_type": "stream",
     "text": [
      "[1, 2, 3, 4, 5, 6]\n",
      "Rotated list is\n",
      "[3, 4, 5, 6, 1, 2]\n"
     ]
    }
   ],
   "source": [
    "arr = [1, 2, 3, 4, 5, 6]\n",
    "print(arr)\n",
    "print(\"Rotated list is\")\n",
    "print(rotateList(arr,2,len(arr)))"
   ]
  },
  {
   "cell_type": "code",
   "execution_count": 13,
   "metadata": {},
   "outputs": [
    {
     "name": "stdout",
     "output_type": "stream",
     "text": [
      "[1, 98499794984, 3, 4, 5, 6, 7, 99, 484, 484685, 4984984984, 48, 4984]\n",
      "Rotated list is\n",
      "[3, 4, 5, 6, 7, 99, 484, 484685, 4984984984, 48, 4984, 1, 98499794984]\n"
     ]
    }
   ],
   "source": [
    "arr = [1, 98499794984, 3, 4, 5, 6, 7, 99, 484, 484685, 4984984984, 48, 4984]\n",
    "print(arr)\n",
    "print(\"Rotated list is\")\n",
    "print(rotateList(arr,2,len(arr)))"
   ]
  },
  {
   "cell_type": "code",
   "execution_count": 16,
   "metadata": {},
   "outputs": [
    {
     "name": "stdout",
     "output_type": "stream",
     "text": [
      "[1, 98499794984, 3, 4, 5, 6, 7, 99, 484, 484685, 4984984984, 48, 4984]\n",
      "Rotated list is\n",
      "[7, 99, 484, 484685, 4984984984, 48, 4984, 1, 98499794984, 3, 4, 5, 6]\n"
     ]
    }
   ],
   "source": [
    "arr = [1, 98499794984, 3, 4, 5, 6, 7, 99, 484, 484685, 4984984984, 48, 4984]\n",
    "print(arr)\n",
    "print(\"Rotated list is\")\n",
    "print(rotateList(arr,6,len(arr)))"
   ]
  },
  {
   "cell_type": "markdown",
   "metadata": {},
   "source": [
    "### 4.\tWrite a Python Program to Split the array and add the first part to the end?"
   ]
  },
  {
   "cell_type": "code",
   "execution_count": 18,
   "metadata": {},
   "outputs": [],
   "source": [
    "def split_n_fit(arr,num):\n",
    "    arr[:] = arr[num:len(arr)] + arr[0:num]\n",
    "    return arr"
   ]
  },
  {
   "cell_type": "code",
   "execution_count": 20,
   "metadata": {},
   "outputs": [
    {
     "name": "stdout",
     "output_type": "stream",
     "text": [
      "[1, 98499794984, 3, 4, 5, 6, 7, 99, 484, 484685, 4984984984, 48, 4984]\n",
      "Altered list after spliting is\n",
      "[7, 99, 484, 484685, 4984984984, 48, 4984, 1, 98499794984, 3, 4, 5, 6]\n"
     ]
    }
   ],
   "source": [
    "arr = [1, 98499794984, 3, 4, 5, 6, 7, 99, 484, 484685, 4984984984, 48, 4984]\n",
    "print(arr)\n",
    "print(\"Altered list after spliting is\")\n",
    "print(split_n_fit(arr,6))"
   ]
  },
  {
   "cell_type": "code",
   "execution_count": 21,
   "metadata": {},
   "outputs": [
    {
     "name": "stdout",
     "output_type": "stream",
     "text": [
      "[1, 2, 3, 4, 5, 6, 7, 8, 9, 10, 11, 12, 13, 14]\n",
      "Altered list after spliting is\n",
      "[7, 8, 9, 10, 11, 12, 13, 14, 1, 2, 3, 4, 5, 6]\n"
     ]
    }
   ],
   "source": [
    "arr = [1, 2,3,4,5,6,7,8,9,10,11,12,13,14]\n",
    "print(arr)\n",
    "print(\"Altered list after spliting is\")\n",
    "print(split_n_fit(arr,6))"
   ]
  },
  {
   "cell_type": "markdown",
   "metadata": {},
   "source": [
    "### 5.\tWrite a Python Program to check if given array is Monotonic?"
   ]
  },
  {
   "cell_type": "code",
   "execution_count": 6,
   "metadata": {},
   "outputs": [],
   "source": [
    "def isMonotonic(arr):\n",
    "    count_asc = 1\n",
    "    count_dsc = 1\n",
    "    for i in range(len(arr)-1):\n",
    "        if arr[i] <= arr[i+1]:\n",
    "            count_asc += 1\n",
    "\n",
    "    for i in range(len(arr)-1):\n",
    "        if arr[i] >= arr[i+1]:\n",
    "            count_dsc += 1\n",
    "            \n",
    "    if (len(arr) == count_asc) or (len(arr) == count_dsc):\n",
    "        return \"The given array is Monotonic\"\n",
    "    else:\n",
    "        return \"The given array is not Monotonic\"\n",
    "    "
   ]
  },
  {
   "cell_type": "code",
   "execution_count": 7,
   "metadata": {},
   "outputs": [],
   "source": [
    "arr = [1, 2,3,4,5,6,7,8,9,10,11,12,13,14]"
   ]
  },
  {
   "cell_type": "code",
   "execution_count": 8,
   "metadata": {},
   "outputs": [
    {
     "data": {
      "text/plain": [
       "'The given array is Monotonic'"
      ]
     },
     "execution_count": 8,
     "metadata": {},
     "output_type": "execute_result"
    }
   ],
   "source": [
    "isMonotonic(arr)"
   ]
  },
  {
   "cell_type": "code",
   "execution_count": 9,
   "metadata": {},
   "outputs": [
    {
     "data": {
      "text/plain": [
       "'The given array is not Monotonic'"
      ]
     },
     "execution_count": 9,
     "metadata": {},
     "output_type": "execute_result"
    }
   ],
   "source": [
    "arr = [1, 5,3,4,5,6,7,8,9,10,11,12,13,14]\n",
    "isMonotonic(arr)"
   ]
  },
  {
   "cell_type": "code",
   "execution_count": 10,
   "metadata": {},
   "outputs": [],
   "source": [
    "arr = [1, 2,3,4,5,6,7,8,9,10,11,12,13,14]\n",
    "arr = arr[::-1]"
   ]
  },
  {
   "cell_type": "code",
   "execution_count": 11,
   "metadata": {},
   "outputs": [
    {
     "data": {
      "text/plain": [
       "[14, 13, 12, 11, 10, 9, 8, 7, 6, 5, 4, 3, 2, 1]"
      ]
     },
     "execution_count": 11,
     "metadata": {},
     "output_type": "execute_result"
    }
   ],
   "source": [
    "arr"
   ]
  },
  {
   "cell_type": "code",
   "execution_count": 12,
   "metadata": {},
   "outputs": [
    {
     "data": {
      "text/plain": [
       "'The given array is Monotonic'"
      ]
     },
     "execution_count": 12,
     "metadata": {},
     "output_type": "execute_result"
    }
   ],
   "source": [
    "isMonotonic(arr)"
   ]
  },
  {
   "cell_type": "code",
   "execution_count": null,
   "metadata": {},
   "outputs": [],
   "source": []
  }
 ],
 "metadata": {
  "kernelspec": {
   "display_name": "Python 3",
   "language": "python",
   "name": "python3"
  },
  "language_info": {
   "codemirror_mode": {
    "name": "ipython",
    "version": 3
   },
   "file_extension": ".py",
   "mimetype": "text/x-python",
   "name": "python",
   "nbconvert_exporter": "python",
   "pygments_lexer": "ipython3",
   "version": "3.8.5"
  }
 },
 "nbformat": 4,
 "nbformat_minor": 4
}
