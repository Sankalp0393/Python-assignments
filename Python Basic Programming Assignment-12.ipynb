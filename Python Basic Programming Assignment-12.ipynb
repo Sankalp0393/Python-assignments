{
 "cells": [
  {
   "cell_type": "markdown",
   "metadata": {},
   "source": [
    "### 1.\tWrite a Python program to Extract Unique values dictionary values?"
   ]
  },
  {
   "cell_type": "code",
   "execution_count": 10,
   "metadata": {},
   "outputs": [
    {
     "name": "stdout",
     "output_type": "stream",
     "text": [
      "The original dictionary is : {'a': [5, 6, 7, 8], 'b': [10, 11, 7, 5], 'c': [6, 12, 10, 8], 'd': [1, 2, 5]}\n",
      "The unique values are :  {1, 2, 5, 6, 7, 8, 10, 11, 12}\n"
     ]
    }
   ],
   "source": [
    "# initializing dictionary\n",
    "test_dict = {'a' : [5, 6, 7, 8],\n",
    "             'b' : [10, 11, 7, 5],\n",
    "             'c' : [6, 12, 10, 8],\n",
    "             'd' : [1, 2, 5]}\n",
    "# printing original dictionary\n",
    "print(\"The original dictionary is : \" + str(test_dict))\n",
    "\n",
    "# Extracting values\n",
    "values = []\n",
    "for val in test_dict.values():\n",
    "    for i in val:\n",
    "        values.append(i)\n",
    "\n",
    "unique_values = set(sorted(values))\n",
    "\n",
    "# printing result \n",
    "print(\"The unique values are : \", unique_values)"
   ]
  },
  {
   "cell_type": "markdown",
   "metadata": {},
   "source": [
    "### 2.\tWrite a Python program to find the sum of all items in a dictionary?"
   ]
  },
  {
   "cell_type": "code",
   "execution_count": 12,
   "metadata": {},
   "outputs": [
    {
     "name": "stdout",
     "output_type": "stream",
     "text": [
      "The original dictionary is : {'a': [5, 6, 7, 8], 'b': [10, 11, 7, 5], 'c': [6, 12, 10, 8], 'd': [1, 2, 5]}\n",
      "The sum of all items in the dictionary is :  103\n"
     ]
    }
   ],
   "source": [
    "# initializing dictionary\n",
    "test_dict = {'a' : [5, 6, 7, 8],\n",
    "             'b' : [10, 11, 7, 5],\n",
    "             'c' : [6, 12, 10, 8],\n",
    "             'd' : [1, 2, 5]}\n",
    "# printing original dictionary\n",
    "print(\"The original dictionary is : \" + str(test_dict))\n",
    "\n",
    "# initiating sum variable\n",
    "item_sum = 0\n",
    "\n",
    "for val in test_dict.values():\n",
    "    for i in val:\n",
    "        item_sum += i\n",
    "\n",
    "# printing result \n",
    "print(\"The sum of all items in the dictionary is : \", item_sum)"
   ]
  },
  {
   "cell_type": "markdown",
   "metadata": {},
   "source": [
    "### 3.\tWrite a Python program to Merging two Dictionaries?"
   ]
  },
  {
   "cell_type": "code",
   "execution_count": 14,
   "metadata": {},
   "outputs": [
    {
     "name": "stdout",
     "output_type": "stream",
     "text": [
      "The 1st dictionary :  {'a': [6, 7, 8], 'b': [], 'c': [6, 10, 9], 'd': [51, 2, 63]}\n",
      "The 2nd dictionary :  {'w': 33, 'x': {'language': 'HTML'}, 'y': 'python', 'z': [1, 2, 5]}\n",
      "The merged dictionary :  {'a': [6, 7, 8], 'b': [], 'c': [6, 10, 9], 'd': [51, 2, 63], 'w': 33, 'x': {'language': 'HTML'}, 'y': 'python', 'z': [1, 2, 5]}\n"
     ]
    }
   ],
   "source": [
    "# initializing and printing dictionaries\n",
    "test_dict_1 = {'a' : [6, 7, 8],\n",
    "             'b' : [],\n",
    "             'c' : [6, 10, 9],\n",
    "             'd' : [51, 2, 63]}\n",
    "\n",
    "test_dict_2 = {'w' : 33,\n",
    "             'x' : {'language':'HTML'},\n",
    "             'y' : 'python',\n",
    "             'z' : [1, 2, 5]}\n",
    "print(\"The 1st dictionary : \", test_dict_1)\n",
    "print(\"The 2nd dictionary : \", test_dict_2)\n",
    "\n",
    "\n",
    "for i in test_dict_2:\n",
    "    test_dict_1[i] = test_dict_2[i]\n",
    "    \n",
    "print(\"The merged dictionary : \", test_dict_1)"
   ]
  },
  {
   "cell_type": "markdown",
   "metadata": {},
   "source": [
    "### 4.\tWrite a Python program to convert key-values list to flat dictionary?"
   ]
  },
  {
   "cell_type": "code",
   "execution_count": 15,
   "metadata": {},
   "outputs": [
    {
     "name": "stdout",
     "output_type": "stream",
     "text": [
      "The dictionary is : \n",
      "{'weekday_num': [1, 2, 3, 4, 5, 6, 7], 'name_of_weekday': ['Sunday', 'Monday', 'Tuesday', 'Wednesday', 'Thursday', 'Friday', 'Saturday']}\n",
      "The flattened dictionary is: \n",
      "{1: 'Sunday', 2: 'Monday', 3: 'Tuesday', 4: 'Wednesday', 5: 'Thursday', 6: 'Friday', 7: 'Saturday'}\n"
     ]
    }
   ],
   "source": [
    "my_dict = {'weekday_num' : [1, 2, 3, 4, 5, 6,7], 'name_of_weekday' : ['Sunday', 'Monday', 'Tuesday', 'Wednesday', 'Thursday', 'Friday', 'Saturday']}\n",
    "\n",
    "print(\"The dictionary is : \")\n",
    "print(my_dict)\n",
    "\n",
    "result = dict(zip(my_dict['weekday_num'], my_dict['name_of_weekday']))\n",
    "\n",
    "print(\"The flattened dictionary is: \")\n",
    "print(result)"
   ]
  },
  {
   "cell_type": "markdown",
   "metadata": {},
   "source": [
    "### 5.\tWrite a Python program to insertion at the beginning in OrderedDict?"
   ]
  },
  {
   "cell_type": "code",
   "execution_count": 17,
   "metadata": {},
   "outputs": [
    {
     "name": "stdout",
     "output_type": "stream",
     "text": [
      "Original OrderedDict:\n",
      "OrderedDict([('color1', 'Red'), ('color2', 'Green'), ('color3', 'Blue')])\n",
      "OrderedDict([('color1', 'Red'), ('color2', 'Green'), ('color3', 'Blue'), ('color4', 'Orange')])\n",
      "Updated OrderedDict:\n",
      "OrderedDict([('color4', 'Orange'), ('color1', 'Red'), ('color2', 'Green'), ('color3', 'Blue')])\n"
     ]
    }
   ],
   "source": [
    "from collections import OrderedDict\n",
    "color_dict = OrderedDict([('color1', 'Red'), ('color2', 'Green'), ('color3', 'Blue')]) \n",
    "print(\"Original OrderedDict:\")\n",
    "print(color_dict)\n",
    "\n",
    "color_dict.update({'color4':'Orange'})\n",
    "print(color_dict)\n",
    "color_dict.move_to_end('color4', last = False)\n",
    "print(\"Updated OrderedDict:\")\n",
    "print(color_dict)"
   ]
  },
  {
   "cell_type": "markdown",
   "metadata": {},
   "source": [
    "### 6.\tWrite a Python program to check order of character in string using OrderedDict()?"
   ]
  },
  {
   "cell_type": "code",
   "execution_count": 18,
   "metadata": {},
   "outputs": [],
   "source": [
    "from collections import OrderedDict\n",
    "def check_order(my_input, pattern):\n",
    "    print(\"The string is: \", my_input)\n",
    "    print(\"The input pattern is: \", pattern)\n",
    "\n",
    "    my_dict = OrderedDict.fromkeys(my_input)\n",
    "    print(my_dict)\n",
    "    pattern_length = 0\n",
    "    \n",
    "    for key,value in my_dict.items():\n",
    "        if (key == pattern[pattern_length]):\n",
    "            pattern_length = pattern_length + 1\n",
    "\n",
    "        if (pattern_length == (len(pattern))):\n",
    "            return 'The order of pattern is correct'\n",
    "\n",
    "    return 'The order of pattern is incorrect'"
   ]
  },
  {
   "cell_type": "code",
   "execution_count": 21,
   "metadata": {},
   "outputs": [
    {
     "name": "stdout",
     "output_type": "stream",
     "text": [
      "The string is:  Hello World\n",
      "The input pattern is:  he\n",
      "OrderedDict([('H', None), ('e', None), ('l', None), ('o', None), (' ', None), ('W', None), ('r', None), ('d', None)])\n"
     ]
    },
    {
     "data": {
      "text/plain": [
       "'The order of pattern is incorrect'"
      ]
     },
     "execution_count": 21,
     "metadata": {},
     "output_type": "execute_result"
    }
   ],
   "source": [
    "check_order('Hello World','he')"
   ]
  },
  {
   "cell_type": "code",
   "execution_count": 22,
   "metadata": {},
   "outputs": [
    {
     "name": "stdout",
     "output_type": "stream",
     "text": [
      "The string is:  Hello World\n",
      "The input pattern is:  ol\n",
      "OrderedDict([('H', None), ('e', None), ('l', None), ('o', None), (' ', None), ('W', None), ('r', None), ('d', None)])\n"
     ]
    },
    {
     "data": {
      "text/plain": [
       "'The order of pattern is incorrect'"
      ]
     },
     "execution_count": 22,
     "metadata": {},
     "output_type": "execute_result"
    }
   ],
   "source": [
    "check_order('Hello World','ol')"
   ]
  },
  {
   "cell_type": "code",
   "execution_count": 24,
   "metadata": {},
   "outputs": [
    {
     "name": "stdout",
     "output_type": "stream",
     "text": [
      "The string is:  Hello World\n",
      "The input pattern is:  ld\n",
      "OrderedDict([('H', None), ('e', None), ('l', None), ('o', None), (' ', None), ('W', None), ('r', None), ('d', None)])\n"
     ]
    },
    {
     "data": {
      "text/plain": [
       "'The order of pattern is correct'"
      ]
     },
     "execution_count": 24,
     "metadata": {},
     "output_type": "execute_result"
    }
   ],
   "source": [
    "check_order('Hello World','ld')"
   ]
  },
  {
   "cell_type": "markdown",
   "metadata": {},
   "source": [
    "### 7.\tWrite a Python program to sort Python Dictionaries by Key or Value?"
   ]
  },
  {
   "cell_type": "code",
   "execution_count": 35,
   "metadata": {},
   "outputs": [
    {
     "name": "stdout",
     "output_type": "stream",
     "text": [
      "Original dictionary :  {1: 'Sanket', 2: 'Amit', 4: 'Aniruddha', 3: 'Sankalp', 6: 'Varun', 5: 'Akshay'}\n",
      "\n",
      "Sorted dictionary using keys: \n",
      "(1, 'Sanket') (2, 'Amit') (3, 'Sankalp') (4, 'Aniruddha') (5, 'Akshay') (6, 'Varun') \n",
      "Sorted dictionary using values: \n",
      "(5, 'Akshay') (2, 'Amit') (4, 'Aniruddha') (3, 'Sankalp') (1, 'Sanket') (6, 'Varun') "
     ]
    }
   ],
   "source": [
    "names = {1:'Sanket' ,2:'Amit' ,4:'Aniruddha' ,3:'Sankalp' ,6:'Varun' ,5:'Akshay' }\n",
    "# printing original dictionary\n",
    "print(\"Original dictionary : \",names)\n",
    "\n",
    "#print the sorted dictionary with key\n",
    "print(\"\\nSorted dictionary using keys: \")\n",
    "for i in sorted(names.keys()):\n",
    "    print((i,names[i]), end=' ')\n",
    "\n",
    "# print the sorted dictionary with values\n",
    "print(\"\\nSorted dictionary using values: \")\n",
    "for value in sorted(names.values()):\n",
    "    for key in names.keys():\n",
    "        if names[key] == value:\n",
    "            print((key,names[key]),end=' ')\n",
    "    "
   ]
  },
  {
   "cell_type": "code",
   "execution_count": null,
   "metadata": {},
   "outputs": [],
   "source": [
    "test_dict[]"
   ]
  }
 ],
 "metadata": {
  "kernelspec": {
   "display_name": "Python 3",
   "language": "python",
   "name": "python3"
  },
  "language_info": {
   "codemirror_mode": {
    "name": "ipython",
    "version": 3
   },
   "file_extension": ".py",
   "mimetype": "text/x-python",
   "name": "python",
   "nbconvert_exporter": "python",
   "pygments_lexer": "ipython3",
   "version": "3.8.5"
  }
 },
 "nbformat": 4,
 "nbformat_minor": 4
}
