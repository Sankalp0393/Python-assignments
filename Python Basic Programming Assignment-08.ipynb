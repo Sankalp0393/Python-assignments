{
 "cells": [
  {
   "cell_type": "markdown",
   "metadata": {},
   "source": [
    "### 1.\tWrite a Python Program to Add Two Matrices?"
   ]
  },
  {
   "cell_type": "code",
   "execution_count": 1,
   "metadata": {},
   "outputs": [
    {
     "name": "stdout",
     "output_type": "stream",
     "text": [
      "[3, 12, 5]\n",
      "[23, 11, 12]\n",
      "[27, 8, 9]\n"
     ]
    }
   ],
   "source": [
    "X = [[1, 4,3],\n",
    "    [4 ,8,9],\n",
    "    [16,3,1]]\n",
    "\n",
    "Y = [[2,8,2],\n",
    "    [19,3,3],\n",
    "    [11,5,8]]\n",
    "\n",
    "result = [[0,0,0],\n",
    "         [0,0,0],\n",
    "         [0,0,0]]\n",
    "\n",
    "# iterating through rows\n",
    "for i in range(len(X)):\n",
    "    # iterating through columns\n",
    "    for j in range(len(X[0])):\n",
    "        result[i][j] = X[i][j] + Y[i][j]\n",
    "\n",
    "for row in result:\n",
    "    print(row)"
   ]
  },
  {
   "cell_type": "markdown",
   "metadata": {},
   "source": [
    "### 2.\tWrite a Python Program to Multiply Two Matrices?"
   ]
  },
  {
   "cell_type": "code",
   "execution_count": 2,
   "metadata": {},
   "outputs": [
    {
     "name": "stdout",
     "output_type": "stream",
     "text": [
      "[114, 172, 15]\n",
      "[74, 121, 10]\n",
      "[119, 193, 16]\n"
     ]
    }
   ],
   "source": [
    "\n",
    "A = [[12, 7, 3],\n",
    "     [4, 5, 6],\n",
    "     [7, 8, 9]]\n",
    "\n",
    "B = [[5, 8, 1],\n",
    "     [6, 7, 0],\n",
    "     [4, 9, 1]]\n",
    "\n",
    "result = [[0, 0, 0],\n",
    "          [0, 0, 0],\n",
    "          [0, 0, 0]]\n",
    "\n",
    "# iterating by row of A\n",
    "for i in range(len(A)):\n",
    "    \n",
    "    # iterating by column by B\n",
    "    for j in range(len(B[0])):\n",
    "        \n",
    "        # iterating by rows of B\n",
    "        for k in range(len(B)):\n",
    "            result[i][j] += A[i][k] * B[k][j]\n",
    "\n",
    "for row in result:\n",
    "    print(row)"
   ]
  },
  {
   "cell_type": "markdown",
   "metadata": {},
   "source": [
    "### 3.\tWrite a Python Program to Transpose a Matrix?"
   ]
  },
  {
   "cell_type": "code",
   "execution_count": 29,
   "metadata": {},
   "outputs": [],
   "source": [
    "def transpose(X):\n",
    "    for i in range(len(X)):\n",
    "        for j in range(len(X[0])):\n",
    "            Y[i][j] = X[j][i]\n",
    "    for row in Y:\n",
    "        print(row)"
   ]
  },
  {
   "cell_type": "code",
   "execution_count": 30,
   "metadata": {},
   "outputs": [
    {
     "name": "stdout",
     "output_type": "stream",
     "text": [
      "[12, 4, 7]\n",
      "[7, 5, 8]\n",
      "[3, 6, 9]\n"
     ]
    }
   ],
   "source": [
    "A = [[12, 7, 3],\n",
    "     [4, 5, 6],\n",
    "     [7, 8, 9]]\n",
    "transpose(A)"
   ]
  },
  {
   "cell_type": "code",
   "execution_count": 31,
   "metadata": {},
   "outputs": [
    {
     "name": "stdout",
     "output_type": "stream",
     "text": [
      "[5, 6, 4]\n",
      "[8, 7, 9]\n",
      "[1, 0, 1]\n"
     ]
    }
   ],
   "source": [
    "B = [[5, 8, 1],\n",
    "     [6, 7, 0],\n",
    "     [4, 9, 1]]\n",
    "transpose(B)"
   ]
  },
  {
   "cell_type": "markdown",
   "metadata": {},
   "source": [
    "### 4.\tWrite a Python Program to Sort Words in Alphabetic Order?"
   ]
  },
  {
   "cell_type": "code",
   "execution_count": 32,
   "metadata": {},
   "outputs": [
    {
     "name": "stdout",
     "output_type": "stream",
     "text": [
      "Enter a string: my name is khan\n",
      "is\n",
      "khan\n",
      "my\n",
      "name\n"
     ]
    }
   ],
   "source": [
    "x = input(\"Enter a string: \")\n",
    "word_list = x.split()\n",
    "word_list.sort()\n",
    "for i in word_list:\n",
    "    print(i)"
   ]
  },
  {
   "cell_type": "code",
   "execution_count": 33,
   "metadata": {},
   "outputs": [
    {
     "name": "stdout",
     "output_type": "stream",
     "text": [
      "Enter a string: b c dh adhj akfeegiwh eqruqoeu weiwqeo wywqq\n",
      "adhj\n",
      "akfeegiwh\n",
      "b\n",
      "c\n",
      "dh\n",
      "eqruqoeu\n",
      "weiwqeo\n",
      "wywqq\n"
     ]
    }
   ],
   "source": [
    "x = input(\"Enter a string: \")\n",
    "word_list = x.split()\n",
    "word_list.sort()\n",
    "for i in word_list:\n",
    "    print(i)"
   ]
  },
  {
   "cell_type": "markdown",
   "metadata": {},
   "source": [
    "### 5.\tWrite a Python Program to Remove Punctuation From a String?"
   ]
  },
  {
   "cell_type": "code",
   "execution_count": 42,
   "metadata": {},
   "outputs": [],
   "source": [
    "def remove_punctuation():\n",
    "    alphabets = \" abcdefghijklmnopqrstuvwxyzABCDEFGHIJKLMNOPQRSTUVWXYZ0123456789\"\n",
    "    mystring = input(\"Enter a string: \")\n",
    "    without_punc = \"\"\n",
    "    for i in mystring:\n",
    "        if i in alphabets:\n",
    "            without_punc += i\n",
    "    print(without_punc)"
   ]
  },
  {
   "cell_type": "code",
   "execution_count": 43,
   "metadata": {},
   "outputs": [
    {
     "name": "stdout",
     "output_type": "stream",
     "text": [
      "Enter a string: hey there, this is 911 what u need? yo!\n",
      "hey there this is 911 what u need yo\n"
     ]
    }
   ],
   "source": [
    "remove_punctuation()"
   ]
  },
  {
   "cell_type": "code",
   "execution_count": null,
   "metadata": {},
   "outputs": [],
   "source": []
  }
 ],
 "metadata": {
  "kernelspec": {
   "display_name": "Python 3",
   "language": "python",
   "name": "python3"
  },
  "language_info": {
   "codemirror_mode": {
    "name": "ipython",
    "version": 3
   },
   "file_extension": ".py",
   "mimetype": "text/x-python",
   "name": "python",
   "nbconvert_exporter": "python",
   "pygments_lexer": "ipython3",
   "version": "3.8.5"
  }
 },
 "nbformat": 4,
 "nbformat_minor": 4
}
