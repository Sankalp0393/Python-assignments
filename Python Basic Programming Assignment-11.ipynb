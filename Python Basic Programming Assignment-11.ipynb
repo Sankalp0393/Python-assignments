{
 "cells": [
  {
   "cell_type": "markdown",
   "metadata": {},
   "source": [
    "### 1.\tWrite a Python program to find words which are greater than given length k?"
   ]
  },
  {
   "cell_type": "code",
   "execution_count": 18,
   "metadata": {},
   "outputs": [],
   "source": [
    "def words_greater_than_k(mylist):\n",
    "    # taking user input for length of words\n",
    "    k = int(input(\"Please enter lenght of word: \"))\n",
    "    print(\"Words with lenght more than {} are: \".format(k))\n",
    "    \n",
    "    # iterating over each word in the given list and comparing its lenght with user given length\n",
    "    for i in mylist:\n",
    "        if len(i) > k:\n",
    "            print(i)"
   ]
  },
  {
   "cell_type": "code",
   "execution_count": 19,
   "metadata": {},
   "outputs": [
    {
     "name": "stdout",
     "output_type": "stream",
     "text": [
      "Please enter lenght of word: 4\n",
      "Words with lenght more than 4 are: \n",
      "hello\n",
      "sankalp\n",
      "sanket\n",
      "world\n",
      "python\n",
      "programm\n"
     ]
    }
   ],
   "source": [
    "list_1 = ['a','amit','hello','sankalp','sanket','world','python','programm']\n",
    "words_greater_than_k(list_1)"
   ]
  },
  {
   "cell_type": "markdown",
   "metadata": {},
   "source": [
    "### 2.\tWrite a Python program for removing i-th character from a string?"
   ]
  },
  {
   "cell_type": "code",
   "execution_count": 3,
   "metadata": {},
   "outputs": [],
   "source": [
    "def remove_i_th_chara():\n",
    "    # taking user input for a string and the i-th number of character to remove from the string\n",
    "    given_string = input(\"Please enter the string: \")\n",
    "    x = int(input(\"Please enter i-th number of character to remove(count starting from 0)): \"))\n",
    "    print(\"Given string: \", given_string)\n",
    "    \n",
    "    modified_string = given_string[:x] + given_string[x+1:]\n",
    "    print(\"Modified string: \", modified_string)"
   ]
  },
  {
   "cell_type": "code",
   "execution_count": 4,
   "metadata": {},
   "outputs": [
    {
     "name": "stdout",
     "output_type": "stream",
     "text": [
      "Please enter the string: my name is sankalp\n",
      "Please enter i-th number of character to remove(count starting from 0)): 7\n",
      "Given string:  my name is sankalp\n",
      "Modified string:  my nameis sankalp\n"
     ]
    }
   ],
   "source": [
    "remove_i_th_chara()"
   ]
  },
  {
   "cell_type": "markdown",
   "metadata": {},
   "source": [
    "### 3.\tWrite a Python program to split and join a string?"
   ]
  },
  {
   "cell_type": "code",
   "execution_count": 20,
   "metadata": {},
   "outputs": [],
   "source": [
    "def split_and_join():\n",
    "    # taking user input for string and the character at which string is to be split\n",
    "    given_string = input(\"Please enter the string: \")\n",
    "    charac = input(\"Please enter the character at which string is to be splited: \")\n",
    "    print(\"Given string: \", given_string)\n",
    "    splited_string = given_string.split(charac)\n",
    "    \n",
    "    #taking user input for character by which string after spliting is to be joined\n",
    "    join_charac = input(\"Please enter the character by which string is to be joined: \")\n",
    "    # joining the string\n",
    "    modified_string = join_charac.join(splited_string)\n",
    "    print(\"String after spliting at {} and then joining by {} : {}\".format(charac,join_charac,modified_string))\n"
   ]
  },
  {
   "cell_type": "code",
   "execution_count": 21,
   "metadata": {},
   "outputs": [
    {
     "name": "stdout",
     "output_type": "stream",
     "text": [
      "Please enter the string: my name is khan\n",
      "Please enter the character at which string is to be splited: n\n",
      "Given string:  my name is khan\n",
      "Please enter the character by which string is to be joined: #\n",
      "String after spliting at n and then joining by # : my #ame is kha#\n"
     ]
    }
   ],
   "source": [
    "split_and_join()"
   ]
  },
  {
   "cell_type": "code",
   "execution_count": 22,
   "metadata": {},
   "outputs": [
    {
     "name": "stdout",
     "output_type": "stream",
     "text": [
      "Please enter the string: hello world\n",
      "Please enter the character at which string is to be splited:  \n",
      "Given string:  hello world\n",
      "Please enter the character by which string is to be joined: --\n",
      "String after spliting at   and then joining by -- : hello--world\n"
     ]
    }
   ],
   "source": [
    "split_and_join()"
   ]
  },
  {
   "cell_type": "markdown",
   "metadata": {},
   "source": [
    "### 4.\tWrite a Python to check if a given string is binary string or not?"
   ]
  },
  {
   "cell_type": "code",
   "execution_count": 23,
   "metadata": {},
   "outputs": [],
   "source": [
    "def check_binary_string(string) :\n",
    "\n",
    "    # using set function converting string into set of characters .\n",
    "    unique_charac = set(string)\n",
    "\n",
    "    # declare set of '0', '1' .\n",
    "    binary_set = {'0', '1'}\n",
    "    \n",
    "    # checking if the unique set is same as binary set or if unique set is only containing 0 or 1\n",
    "    if unique_charac == binary_set or unique_charac == {'0'} or unique_charac == {'1'}:\n",
    "        print(\"Yes\")\n",
    "    else :\n",
    "        print(\"No\")\n"
   ]
  },
  {
   "cell_type": "code",
   "execution_count": 24,
   "metadata": {},
   "outputs": [
    {
     "name": "stdout",
     "output_type": "stream",
     "text": [
      "No\n"
     ]
    }
   ],
   "source": [
    "x = 'sankalp'\n",
    "check_binary_string(x)"
   ]
  },
  {
   "cell_type": "code",
   "execution_count": 25,
   "metadata": {},
   "outputs": [
    {
     "name": "stdout",
     "output_type": "stream",
     "text": [
      "Yes\n"
     ]
    }
   ],
   "source": [
    "check_binary_string('10101010')"
   ]
  },
  {
   "cell_type": "code",
   "execution_count": 26,
   "metadata": {},
   "outputs": [
    {
     "name": "stdout",
     "output_type": "stream",
     "text": [
      "No\n"
     ]
    }
   ],
   "source": [
    "check_binary_string('da101010')"
   ]
  },
  {
   "cell_type": "markdown",
   "metadata": {},
   "source": [
    "### 5.\tWrite a Python program to find uncommon words from two Strings?"
   ]
  },
  {
   "cell_type": "code",
   "execution_count": 27,
   "metadata": {},
   "outputs": [],
   "source": [
    "def uncommon_words():\n",
    "    # taking 2 string as user input\n",
    "    string1 = input(\"Please enter 1st string: \")\n",
    "    string2 = input(\"Please enter 2nd string: \")\n",
    "    \n",
    "    # creating an empty set to strore uncommon words\n",
    "    uncommon_words = set()\n",
    "    # spliting both the given strings into words\n",
    "    list_1 = string1.split()\n",
    "    list_2 = string2.split()\n",
    "    \n",
    "    # iterating over 1st list of words and comparing it with 2nd for finding uncommon words\n",
    "    for i in list_1:\n",
    "        if i in list_2:\n",
    "            pass\n",
    "        else:\n",
    "            uncommon_words.add(i)\n",
    "            \n",
    "    # iterating over 2nd list of words and comparing it with 1st for finding uncommon words\n",
    "    for i in list_2:\n",
    "        if i in list_1:\n",
    "            pass\n",
    "        else:\n",
    "            uncommon_words.add(i)\n",
    "            \n",
    "    # printing results\n",
    "    print(\"1st String: \", string1)\n",
    "    print(\"2nd String: \", string2)\n",
    "    print(\"Uncommon words: \", uncommon_words)"
   ]
  },
  {
   "cell_type": "code",
   "execution_count": 28,
   "metadata": {},
   "outputs": [
    {
     "name": "stdout",
     "output_type": "stream",
     "text": [
      "Please enter 1st string: my name is amir\n",
      "Please enter 2nd string: my name is khan\n",
      "1st String:  my name is amir\n",
      "2nd String:  my name is khan\n",
      "Uncommon words:  {'amir', 'khan'}\n"
     ]
    }
   ],
   "source": [
    "uncommon_words()"
   ]
  },
  {
   "cell_type": "code",
   "execution_count": 29,
   "metadata": {},
   "outputs": [
    {
     "name": "stdout",
     "output_type": "stream",
     "text": [
      "Please enter 1st string: 465 5456 name\n",
      "Please enter 2nd string: 4456 5655 x\n",
      "1st String:  465 5456 name\n",
      "2nd String:  4456 5655 x\n",
      "Uncommon words:  {'x', '5655', '5456', '4456', '465', 'name'}\n"
     ]
    }
   ],
   "source": [
    "uncommon_words()"
   ]
  },
  {
   "cell_type": "markdown",
   "metadata": {},
   "source": [
    "### 6.\tWrite a Python to find all duplicate characters in string?"
   ]
  },
  {
   "cell_type": "code",
   "execution_count": 38,
   "metadata": {},
   "outputs": [],
   "source": [
    "def duplicate_characters(string):\n",
    "    # printing the given string\n",
    "    print(\"Given string: \", string)\n",
    "    # using set function converting string into set of characters .\n",
    "    unique_charac = set(string)\n",
    "    \n",
    "    for i in unique_charac:\n",
    "        print(i, \"occurrs\", string.count(i), \"times\")"
   ]
  },
  {
   "cell_type": "code",
   "execution_count": 39,
   "metadata": {},
   "outputs": [
    {
     "data": {
      "text/plain": [
       "'sankalp'"
      ]
     },
     "execution_count": 39,
     "metadata": {},
     "output_type": "execute_result"
    }
   ],
   "source": [
    "x"
   ]
  },
  {
   "cell_type": "code",
   "execution_count": 40,
   "metadata": {},
   "outputs": [
    {
     "name": "stdout",
     "output_type": "stream",
     "text": [
      "Given string:  sankalp\n",
      "n occurrs 1 times\n",
      "p occurrs 1 times\n",
      "a occurrs 2 times\n",
      "l occurrs 1 times\n",
      "s occurrs 1 times\n",
      "k occurrs 1 times\n"
     ]
    }
   ],
   "source": [
    "duplicate_characters(x)"
   ]
  },
  {
   "cell_type": "code",
   "execution_count": 41,
   "metadata": {},
   "outputs": [
    {
     "name": "stdout",
     "output_type": "stream",
     "text": [
      "Given string:  46815485984981798\n",
      "4 occurrs 3 times\n",
      "5 occurrs 2 times\n",
      "8 occurrs 5 times\n",
      "9 occurrs 3 times\n",
      "1 occurrs 2 times\n",
      "7 occurrs 1 times\n",
      "6 occurrs 1 times\n"
     ]
    }
   ],
   "source": [
    "duplicate_characters('46815485984981798')"
   ]
  },
  {
   "cell_type": "code",
   "execution_count": 43,
   "metadata": {},
   "outputs": [
    {
     "name": "stdout",
     "output_type": "stream",
     "text": [
      "Given string:  46546464giyqwgdqberycgwerw gerwfeiyfdqwuefquwrvfuky  asdgqiygf\n",
      "4 occurrs 4 times\n",
      "q occurrs 5 times\n",
      "y occurrs 5 times\n",
      "b occurrs 1 times\n",
      "u occurrs 3 times\n",
      "w occurrs 6 times\n",
      "s occurrs 1 times\n",
      "v occurrs 1 times\n",
      "6 occurrs 3 times\n",
      "d occurrs 3 times\n",
      "f occurrs 5 times\n",
      "5 occurrs 1 times\n",
      "r occurrs 4 times\n",
      "g occurrs 6 times\n",
      "c occurrs 1 times\n",
      "  occurrs 3 times\n",
      "i occurrs 3 times\n",
      "a occurrs 1 times\n",
      "e occurrs 5 times\n",
      "k occurrs 1 times\n"
     ]
    }
   ],
   "source": [
    "duplicate_characters('46546464giyqwgdqberycgwerw gerwfeiyfdqwuefquwrvfuky  asdgqiygf')"
   ]
  },
  {
   "cell_type": "markdown",
   "metadata": {},
   "source": [
    "### 7.\tWrite a Python Program to check if a string contains any special character?"
   ]
  },
  {
   "cell_type": "code",
   "execution_count": 51,
   "metadata": {},
   "outputs": [],
   "source": [
    "def contain_special_characters(string):\n",
    "    special_char=set(''' `~!@#$%^&*()-_=+{[]}\\|;:\",.'\"/<>?''')\n",
    "    for i in string:\n",
    "        if i in special_char:\n",
    "            return \"string contains special characters\"\n",
    "    else:\n",
    "        return \"string does not contain special characters\"\n"
   ]
  },
  {
   "cell_type": "code",
   "execution_count": 52,
   "metadata": {},
   "outputs": [
    {
     "name": "stdout",
     "output_type": "stream",
     "text": [
      "Hello world!\n",
      "string contains special characters\n"
     ]
    }
   ],
   "source": [
    "x =\"Hello world!\"\n",
    "print(x)\n",
    "print(contain_special_characters(x))"
   ]
  },
  {
   "cell_type": "code",
   "execution_count": 53,
   "metadata": {},
   "outputs": [
    {
     "data": {
      "text/plain": [
       "'string contains special characters'"
      ]
     },
     "execution_count": 53,
     "metadata": {},
     "output_type": "execute_result"
    }
   ],
   "source": [
    "contain_special_characters('sankalp tipte')"
   ]
  },
  {
   "cell_type": "code",
   "execution_count": null,
   "metadata": {},
   "outputs": [],
   "source": []
  }
 ],
 "metadata": {
  "kernelspec": {
   "display_name": "Python 3",
   "language": "python",
   "name": "python3"
  },
  "language_info": {
   "codemirror_mode": {
    "name": "ipython",
    "version": 3
   },
   "file_extension": ".py",
   "mimetype": "text/x-python",
   "name": "python",
   "nbconvert_exporter": "python",
   "pygments_lexer": "ipython3",
   "version": "3.8.5"
  }
 },
 "nbformat": 4,
 "nbformat_minor": 4
}
