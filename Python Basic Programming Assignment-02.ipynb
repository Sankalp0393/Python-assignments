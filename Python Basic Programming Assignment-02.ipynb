{
 "cells": [
  {
   "cell_type": "markdown",
   "metadata": {},
   "source": [
    "### 1.\tWrite a Python program to convert kilometers to miles?"
   ]
  },
  {
   "cell_type": "code",
   "execution_count": 12,
   "metadata": {},
   "outputs": [],
   "source": [
    "def km_to_miles():\n",
    "    kms = int(input(\"Enter length in kilometers: \"))\n",
    "    miles = kms / 1.60934\n",
    "    print(\"{} kilometers equals to {} miles\".format(kms, round(miles,ndigits=5)))"
   ]
  },
  {
   "cell_type": "code",
   "execution_count": 13,
   "metadata": {},
   "outputs": [
    {
     "name": "stdout",
     "output_type": "stream",
     "text": [
      "Enter length in kilometers: 11\n",
      "11 kilometers equals to 6.8351 miles\n"
     ]
    }
   ],
   "source": [
    "km_to_miles()"
   ]
  },
  {
   "cell_type": "markdown",
   "metadata": {},
   "source": [
    "### 2.\tWrite a Python program to convert Celsius to Fahrenheit?"
   ]
  },
  {
   "cell_type": "code",
   "execution_count": 16,
   "metadata": {},
   "outputs": [],
   "source": [
    "def celsius_to_fahrenheit():\n",
    "    celsius = int(input(\"Please enter temperature in degree celsius: \"))\n",
    "    fahrenheit = (celsius*(9/5)) + 32\n",
    "    print(\"{} degree celsius temperature is equal to {} degree fahrenheit\".format(celsius,round(fahrenheit,2)))"
   ]
  },
  {
   "cell_type": "code",
   "execution_count": 17,
   "metadata": {},
   "outputs": [
    {
     "name": "stdout",
     "output_type": "stream",
     "text": [
      "Please enter temperature in degree celsius: 0\n",
      "0 degree celsius temperature is equal to 32.0 degree fahrenheit\n"
     ]
    }
   ],
   "source": [
    "celsius_to_fahrenheit()"
   ]
  },
  {
   "cell_type": "code",
   "execution_count": 18,
   "metadata": {},
   "outputs": [
    {
     "name": "stdout",
     "output_type": "stream",
     "text": [
      "Please enter temperature in degree celsius: 100\n",
      "100 degree celsius temperature is equal to 212.0 degree fahrenheit\n"
     ]
    }
   ],
   "source": [
    "celsius_to_fahrenheit()"
   ]
  },
  {
   "cell_type": "markdown",
   "metadata": {},
   "source": [
    "### 3.\tWrite a Python program to display calendar?"
   ]
  },
  {
   "cell_type": "code",
   "execution_count": 33,
   "metadata": {},
   "outputs": [],
   "source": [
    "def display_calendar():\n",
    "    import calendar\n",
    "    l = input(\"Please enter calendar month-year or year to be displayed in MM YYYY or YYYY form: \").split()\n",
    "    if len(l) == 2:\n",
    "        for i in range(len(l)):\n",
    "            month = int(l[0])\n",
    "            year = int(l[1])\n",
    "        print(\"Calendar for {}-month of {}:\".format(month,year))\n",
    "        print(calendar.month(year,month))\n",
    "    elif len(l) == 1:\n",
    "        if len(l[0]) == 4:\n",
    "            year = int(l[0])\n",
    "            print(\"Calendar for {}:\".format(year))\n",
    "            print(calendar.calendar(year))\n",
    "        else:\n",
    "            print(\"Year entered should be in YYYY form\")\n",
    "    else:\n",
    "        print(\"Wrong format for calendar display!. Please enter in format: MM YYYY or YYYY\")\n",
    "    "
   ]
  },
  {
   "cell_type": "code",
   "execution_count": 34,
   "metadata": {},
   "outputs": [
    {
     "name": "stdout",
     "output_type": "stream",
     "text": [
      "Please enter calendar month-year or year to be displayed in MM YYYY or YYYY form: 08\n",
      "Year entered should be in YYYY form\n"
     ]
    }
   ],
   "source": [
    "display_calendar()"
   ]
  },
  {
   "cell_type": "code",
   "execution_count": 35,
   "metadata": {},
   "outputs": [
    {
     "name": "stdout",
     "output_type": "stream",
     "text": [
      "Please enter calendar month-year or year to be displayed in MM YYYY or YYYY form: 202020\n",
      "Year entered should be in YYYY form\n"
     ]
    }
   ],
   "source": [
    "display_calendar()"
   ]
  },
  {
   "cell_type": "code",
   "execution_count": 36,
   "metadata": {},
   "outputs": [
    {
     "name": "stdout",
     "output_type": "stream",
     "text": [
      "Please enter calendar month-year or year to be displayed in MM YYYY or YYYY form: 01 2021\n",
      "Calendar for 1-month of 2021:\n",
      "    January 2021\n",
      "Mo Tu We Th Fr Sa Su\n",
      "             1  2  3\n",
      " 4  5  6  7  8  9 10\n",
      "11 12 13 14 15 16 17\n",
      "18 19 20 21 22 23 24\n",
      "25 26 27 28 29 30 31\n",
      "\n"
     ]
    }
   ],
   "source": [
    "display_calendar()"
   ]
  },
  {
   "cell_type": "code",
   "execution_count": 37,
   "metadata": {},
   "outputs": [
    {
     "name": "stdout",
     "output_type": "stream",
     "text": [
      "Please enter calendar month-year or year to be displayed in MM YYYY or YYYY form: 2021\n",
      "Calendar for 2021:\n",
      "                                  2021\n",
      "\n",
      "      January                   February                   March\n",
      "Mo Tu We Th Fr Sa Su      Mo Tu We Th Fr Sa Su      Mo Tu We Th Fr Sa Su\n",
      "             1  2  3       1  2  3  4  5  6  7       1  2  3  4  5  6  7\n",
      " 4  5  6  7  8  9 10       8  9 10 11 12 13 14       8  9 10 11 12 13 14\n",
      "11 12 13 14 15 16 17      15 16 17 18 19 20 21      15 16 17 18 19 20 21\n",
      "18 19 20 21 22 23 24      22 23 24 25 26 27 28      22 23 24 25 26 27 28\n",
      "25 26 27 28 29 30 31                                29 30 31\n",
      "\n",
      "       April                      May                       June\n",
      "Mo Tu We Th Fr Sa Su      Mo Tu We Th Fr Sa Su      Mo Tu We Th Fr Sa Su\n",
      "          1  2  3  4                      1  2          1  2  3  4  5  6\n",
      " 5  6  7  8  9 10 11       3  4  5  6  7  8  9       7  8  9 10 11 12 13\n",
      "12 13 14 15 16 17 18      10 11 12 13 14 15 16      14 15 16 17 18 19 20\n",
      "19 20 21 22 23 24 25      17 18 19 20 21 22 23      21 22 23 24 25 26 27\n",
      "26 27 28 29 30            24 25 26 27 28 29 30      28 29 30\n",
      "                          31\n",
      "\n",
      "        July                     August                  September\n",
      "Mo Tu We Th Fr Sa Su      Mo Tu We Th Fr Sa Su      Mo Tu We Th Fr Sa Su\n",
      "          1  2  3  4                         1             1  2  3  4  5\n",
      " 5  6  7  8  9 10 11       2  3  4  5  6  7  8       6  7  8  9 10 11 12\n",
      "12 13 14 15 16 17 18       9 10 11 12 13 14 15      13 14 15 16 17 18 19\n",
      "19 20 21 22 23 24 25      16 17 18 19 20 21 22      20 21 22 23 24 25 26\n",
      "26 27 28 29 30 31         23 24 25 26 27 28 29      27 28 29 30\n",
      "                          30 31\n",
      "\n",
      "      October                   November                  December\n",
      "Mo Tu We Th Fr Sa Su      Mo Tu We Th Fr Sa Su      Mo Tu We Th Fr Sa Su\n",
      "             1  2  3       1  2  3  4  5  6  7             1  2  3  4  5\n",
      " 4  5  6  7  8  9 10       8  9 10 11 12 13 14       6  7  8  9 10 11 12\n",
      "11 12 13 14 15 16 17      15 16 17 18 19 20 21      13 14 15 16 17 18 19\n",
      "18 19 20 21 22 23 24      22 23 24 25 26 27 28      20 21 22 23 24 25 26\n",
      "25 26 27 28 29 30 31      29 30                     27 28 29 30 31\n",
      "\n"
     ]
    }
   ],
   "source": [
    "display_calendar()"
   ]
  },
  {
   "cell_type": "markdown",
   "metadata": {},
   "source": [
    "### 4.\tWrite a Python program to solve quadratic equation?"
   ]
  },
  {
   "cell_type": "code",
   "execution_count": 43,
   "metadata": {},
   "outputs": [],
   "source": [
    "import math\n",
    "\n",
    "def quadratic_eqtn_roots(a,b,c):\n",
    "    discr = b*b - 4*a*c\n",
    "    sq_root = math.sqrt(abs(discr))\n",
    "    \n",
    "    if discr > 0:\n",
    "        print(\"Roots are real and different\")\n",
    "        print((-b+sq_root)/(2*a))\n",
    "        print((-b-sq_root)/(2*a))\n",
    "        \n",
    "    elif discr == 0:\n",
    "        print(\"Roots are real and equal\")\n",
    "        print(-b/(2*a))\n",
    "        \n",
    "    else:\n",
    "        print(\"Complex roots\")\n",
    "        print((-b/(2*a)), \" + i\", sq_root)\n",
    "        print((-b/(2*a)), \" - i\", sq_root)"
   ]
  },
  {
   "cell_type": "code",
   "execution_count": 48,
   "metadata": {},
   "outputs": [
    {
     "name": "stdout",
     "output_type": "stream",
     "text": [
      "Roots are real and equal\n",
      "-1.0\n"
     ]
    }
   ],
   "source": [
    "quadratic_eqtn_roots(2,4,2)"
   ]
  },
  {
   "cell_type": "code",
   "execution_count": 49,
   "metadata": {},
   "outputs": [
    {
     "name": "stdout",
     "output_type": "stream",
     "text": [
      "Complex roots\n",
      "-0.25  + i 3.4641016151377544\n",
      "-0.25  - i 3.4641016151377544\n"
     ]
    }
   ],
   "source": [
    "quadratic_eqtn_roots(4,2,1)"
   ]
  },
  {
   "cell_type": "code",
   "execution_count": 54,
   "metadata": {},
   "outputs": [
    {
     "name": "stdout",
     "output_type": "stream",
     "text": [
      "Roots are real and different\n",
      "2.0\n",
      "-12.0\n"
     ]
    }
   ],
   "source": [
    "quadratic_eqtn_roots(1,10,-24)"
   ]
  },
  {
   "cell_type": "markdown",
   "metadata": {},
   "source": [
    "### 5.\tWrite a Python program to swap two variables without temp variable?"
   ]
  },
  {
   "cell_type": "code",
   "execution_count": 55,
   "metadata": {},
   "outputs": [],
   "source": [
    "def swap_two():\n",
    "    a = input(\"Please enter 1st variable: \")\n",
    "    b = input(\"Please enter 2nd variable: \")\n",
    "    print(\"1st variable before swap is :\",a)\n",
    "    print(\"2nd variable before swap is :\",b)\n",
    "    a, b = b, a\n",
    "    print(\"1st variable after swap is :\",a)\n",
    "    print(\"2nd variable after swap is :\",b)"
   ]
  },
  {
   "cell_type": "code",
   "execution_count": 56,
   "metadata": {},
   "outputs": [
    {
     "name": "stdout",
     "output_type": "stream",
     "text": [
      "Please enter 1st variable: 1\n",
      "Please enter 2nd variable: 3\n",
      "1st variable before swap is : 1\n",
      "2nd variable before swap is : 3\n",
      "1st variable after swap is : 3\n",
      "2nd variable after swap is : 1\n"
     ]
    }
   ],
   "source": [
    "swap_two()"
   ]
  },
  {
   "cell_type": "code",
   "execution_count": 57,
   "metadata": {},
   "outputs": [
    {
     "name": "stdout",
     "output_type": "stream",
     "text": [
      "Please enter 1st variable: sankalp\n",
      "Please enter 2nd variable: amit\n",
      "1st variable before swap is : sankalp\n",
      "2nd variable before swap is : amit\n",
      "1st variable after swap is : amit\n",
      "2nd variable after swap is : sankalp\n"
     ]
    }
   ],
   "source": [
    "swap_two()"
   ]
  },
  {
   "cell_type": "code",
   "execution_count": 58,
   "metadata": {},
   "outputs": [
    {
     "name": "stdout",
     "output_type": "stream",
     "text": [
      "Please enter 1st variable: amit\n",
      "Please enter 2nd variable: 5\n",
      "1st variable before swap is : amit\n",
      "2nd variable before swap is : 5\n",
      "1st variable after swap is : 5\n",
      "2nd variable after swap is : amit\n"
     ]
    }
   ],
   "source": [
    "swap_two()"
   ]
  },
  {
   "cell_type": "code",
   "execution_count": 59,
   "metadata": {},
   "outputs": [
    {
     "name": "stdout",
     "output_type": "stream",
     "text": [
      "Please enter 1st variable: 5\n",
      "Please enter 2nd variable: 33.3\n",
      "1st variable before swap is : 5\n",
      "2nd variable before swap is : 33.3\n",
      "1st variable after swap is : 33.3\n",
      "2nd variable after swap is : 5\n"
     ]
    }
   ],
   "source": [
    "swap_two()"
   ]
  },
  {
   "cell_type": "code",
   "execution_count": null,
   "metadata": {},
   "outputs": [],
   "source": []
  }
 ],
 "metadata": {
  "kernelspec": {
   "display_name": "Python 3",
   "language": "python",
   "name": "python3"
  },
  "language_info": {
   "codemirror_mode": {
    "name": "ipython",
    "version": 3
   },
   "file_extension": ".py",
   "mimetype": "text/x-python",
   "name": "python",
   "nbconvert_exporter": "python",
   "pygments_lexer": "ipython3",
   "version": "3.8.5"
  }
 },
 "nbformat": 4,
 "nbformat_minor": 4
}
