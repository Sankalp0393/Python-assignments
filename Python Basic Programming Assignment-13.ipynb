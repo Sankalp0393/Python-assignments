{
 "cells": [
  {
   "cell_type": "markdown",
   "metadata": {},
   "source": [
    "### Question 1:"
   ]
  },
  {
   "cell_type": "markdown",
   "metadata": {},
   "source": [
    "Write a program that calculates and prints the value according to the given formula:\n",
    "\n",
    "Q = Square root of [(2 * C * D)/H]\n",
    "\n",
    "Following are the fixed values of C and H:\n",
    "\n",
    "C is 50. H is 30.\n",
    "\n",
    "D is the variable whose values should be input to your program in a comma-separated sequence.\n",
    "\n",
    "Example\n",
    "\n",
    "Let us assume the following comma separated input sequence is given to the program:\n",
    "\n",
    "100,150,180\n",
    "\n",
    "The output of the program should be:\n",
    "\n",
    "18,22,24\n"
   ]
  },
  {
   "cell_type": "code",
   "execution_count": 18,
   "metadata": {},
   "outputs": [
    {
     "data": {
      "text/plain": [
       "[18, 22, 24]"
      ]
     },
     "execution_count": 18,
     "metadata": {},
     "output_type": "execute_result"
    }
   ],
   "source": [
    "def func(d):\n",
    "    import math\n",
    "    c = 50\n",
    "    h = 30\n",
    "    q = math.sqrt((2*c*d)/h)\n",
    "    return q\n",
    "\n",
    "d_values = [100,150,180]\n",
    "[round(i) for i in map(func,d_values)]\n"
   ]
  },
  {
   "cell_type": "markdown",
   "metadata": {},
   "source": [
    "### Question 2:"
   ]
  },
  {
   "cell_type": "markdown",
   "metadata": {},
   "source": [
    "Write a program which takes 2 digits, X,Y as input and generates a 2-dimensional array. The element value in the i-th row and j-th column of the array should be i*j.\n",
    "\n",
    "Note: i=0,1.., X-1; j=0,1,¡¬Y-1.\n",
    "\n",
    "Example\n",
    "\n",
    "Suppose the following inputs are given to the program:\n",
    "\n",
    "3,5\n",
    "\n",
    "Then, the output of the program should be:\n",
    "\n",
    "[[0, 0, 0, 0, 0], [0, 1, 2, 3, 4], [0, 2, 4, 6, 8]] \n"
   ]
  },
  {
   "cell_type": "code",
   "execution_count": 22,
   "metadata": {},
   "outputs": [
    {
     "name": "stdout",
     "output_type": "stream",
     "text": [
      "Input number of rows: 3\n",
      "Input number of columns: 5\n",
      "The resultant array :\n",
      "[[0, 0, 0, 0, 0], [0, 1, 2, 3, 4], [0, 2, 4, 6, 8]]\n"
     ]
    }
   ],
   "source": [
    "x = int(input(\"Input number of rows: \"))\n",
    "y = int(input(\"Input number of columns: \"))\n",
    "multi_list = [[0 for col in range(y)] for row in range(x)]\n",
    "\n",
    "for row in range(x):\n",
    "    for col in range(y):\n",
    "        multi_list[row][col]= row*col\n",
    "\n",
    "print(\"The resultant array :\")\n",
    "print(multi_list)"
   ]
  },
  {
   "cell_type": "markdown",
   "metadata": {},
   "source": [
    "### Question 3:"
   ]
  },
  {
   "cell_type": "markdown",
   "metadata": {},
   "source": [
    "Write a program that accepts a comma separated sequence of words as input and prints the words in a comma-separated sequence after sorting them alphabetically.\n",
    "\n",
    "Suppose the following input is supplied to the program:\n",
    "\n",
    "without,hello,bag,world\n",
    "\n",
    "Then, the output should be:\n",
    "\n",
    "bag,hello,without,world\n"
   ]
  },
  {
   "cell_type": "code",
   "execution_count": 25,
   "metadata": {},
   "outputs": [],
   "source": [
    "def sort_alpha(mylist):\n",
    "    print(\"Original sequence: \",mylist)\n",
    "    mylist.sort()\n",
    "    print(\"Sorted sequence: \", mylist)"
   ]
  },
  {
   "cell_type": "code",
   "execution_count": 26,
   "metadata": {},
   "outputs": [
    {
     "name": "stdout",
     "output_type": "stream",
     "text": [
      "Original sequence:  ['without', 'hello', 'bag', 'world']\n",
      "Sorted sequence:  ['bag', 'hello', 'without', 'world']\n"
     ]
    }
   ],
   "source": [
    "l = ['without','hello','bag','world']\n",
    "sort_alpha(l)"
   ]
  },
  {
   "cell_type": "markdown",
   "metadata": {},
   "source": [
    "### Question 4:"
   ]
  },
  {
   "cell_type": "markdown",
   "metadata": {},
   "source": [
    "Write a program that accepts a sequence of whitespace separated words as input and prints the words after removing all duplicate words and sorting them alphanumerically.\n",
    "\n",
    "Suppose the following input is supplied to the program:\n",
    "\n",
    "hello world and practice makes perfect and hello world again\n",
    "\n",
    "Then, the output should be:\n",
    "\n",
    "again and hello makes perfect practice world\n"
   ]
  },
  {
   "cell_type": "code",
   "execution_count": 45,
   "metadata": {},
   "outputs": [],
   "source": [
    "def unique_sorted(mystring):\n",
    "    print(\"Original sequence: \",mystring)\n",
    "    x = mystring.split()\n",
    "    x.sort()\n",
    "    unique_list = []\n",
    "    for i in x:\n",
    "        if i not in unique_list:\n",
    "            unique_list.append(i)\n",
    "    print(\"Sequence after removing duplicate and sorting: \", end=' ')\n",
    "    for j in unique_list:\n",
    "        print(j, end=' ')"
   ]
  },
  {
   "cell_type": "code",
   "execution_count": 46,
   "metadata": {},
   "outputs": [
    {
     "name": "stdout",
     "output_type": "stream",
     "text": [
      "Original sequence:  hello world and practice makes perfect and hello world again\n",
      "Sequence after removing duplicate and sorting:  again and hello makes perfect practice world "
     ]
    }
   ],
   "source": [
    "unique_sorted(\"hello world and practice makes perfect and hello world again\")"
   ]
  },
  {
   "cell_type": "markdown",
   "metadata": {},
   "source": [
    "### Question 5:"
   ]
  },
  {
   "cell_type": "markdown",
   "metadata": {},
   "source": [
    "Write a program that accepts a sentence and calculate the number of letters and digits.\n",
    "\n",
    "Suppose the following input is supplied to the program:\n",
    "\n",
    "hello world! 123\n",
    "\n",
    "Then, the output should be:\n",
    "\n",
    "LETTERS 10\n",
    "\n",
    "DIGITS 3\n"
   ]
  },
  {
   "cell_type": "code",
   "execution_count": 59,
   "metadata": {},
   "outputs": [],
   "source": [
    "def no_of_letters_and_digits(mystring):\n",
    "    print(\"Original sentence : \", mystring)\n",
    "    count_letters = 0\n",
    "    count_digits = 0\n",
    "    for i in range(len(mystring)):\n",
    "        if mystring[i].isalpha():\n",
    "            count_letters += 1\n",
    "        elif mystring[i].isdigit():\n",
    "            count_digits += 1\n",
    "        else:\n",
    "            pass\n",
    "    print(\"LETTERS: \", count_letters)\n",
    "    print(\"DIGITS: \", count_digits)"
   ]
  },
  {
   "cell_type": "code",
   "execution_count": 60,
   "metadata": {},
   "outputs": [],
   "source": [
    "x = 'hello world! 123'"
   ]
  },
  {
   "cell_type": "code",
   "execution_count": 61,
   "metadata": {},
   "outputs": [
    {
     "name": "stdout",
     "output_type": "stream",
     "text": [
      "Original sentence :  hello world! 123\n",
      "LETTERS:  10\n",
      "DIGITS:  3\n"
     ]
    }
   ],
   "source": [
    "no_of_letters_and_digits(x)"
   ]
  },
  {
   "cell_type": "markdown",
   "metadata": {},
   "source": [
    "### Question 6:"
   ]
  },
  {
   "cell_type": "markdown",
   "metadata": {},
   "source": [
    "A website requires the users to input username and password to register. Write a program to check the validity of password input by users.\n",
    "\n",
    "Following are the criteria for checking the password:\n",
    "\n",
    "1. At least 1 letter between [a-z]\n",
    "\n",
    "2. At least 1 number between [0-9]\n",
    "\n",
    "1. At least 1 letter between [A-Z]\n",
    "\n",
    "3. At least 1 character from [$#@]\n",
    "\n",
    "4. Minimum length of transaction password: 6\n",
    "\n",
    "5. Maximum length of transaction password: 12\n",
    "\n",
    "Your program should accept a sequence of comma separated passwords and will check them according to the above criteria. Passwords that match the criteria are to be printed, each separated by a comma.\n",
    "\n",
    "Example\n",
    "\n",
    "If the following passwords are given as input to the program:\n",
    "\n",
    "ABd1234@1,a F1#,2w3E*,2We3345\n",
    "\n",
    "Then, the output of the program should be:\n",
    "\n",
    "ABd1234@1\n"
   ]
  },
  {
   "cell_type": "code",
   "execution_count": 1,
   "metadata": {},
   "outputs": [],
   "source": [
    "def password_validity(mystring):\n",
    "    \n",
    "    # setting up some counters\n",
    "    low_count = 0\n",
    "    up_count = 0\n",
    "    digit_count = 0\n",
    "    special_count = 0\n",
    "    \n",
    "    # checking password length\n",
    "    if 6 <= len(mystring) <= 12:\n",
    "        # iterating over each character\n",
    "        for i in mystring:\n",
    "            # checking validity of lower case alphabets\n",
    "            if i.islower():\n",
    "                low_count += 1\n",
    "            # checking validity of upper case alphabets\n",
    "            elif i.isupper():\n",
    "                up_count += 1\n",
    "            # checking validity of digits\n",
    "            elif i.isdigit():\n",
    "                digit_count += 1\n",
    "            # checking special character\n",
    "            elif i in '$#@':\n",
    "                special_count += 1\n",
    "\n",
    "        # if all above is satisfied password is valid\n",
    "        if low_count>0 and up_count>0 and digit_count>0 and special_count>0:\n",
    "            return mystring"
   ]
  },
  {
   "cell_type": "code",
   "execution_count": 3,
   "metadata": {},
   "outputs": [
    {
     "name": "stdout",
     "output_type": "stream",
     "text": [
      "ABd1234@1\n",
      "None\n",
      "None\n",
      "None\n"
     ]
    }
   ],
   "source": [
    "pw = ['ABd1234@1','a F1#','2w3E*','2We3345']\n",
    "for i in pw:\n",
    "    print(password_validity(i))\n",
    "    "
   ]
  },
  {
   "cell_type": "code",
   "execution_count": null,
   "metadata": {},
   "outputs": [],
   "source": []
  }
 ],
 "metadata": {
  "kernelspec": {
   "display_name": "Python 3",
   "language": "python",
   "name": "python3"
  },
  "language_info": {
   "codemirror_mode": {
    "name": "ipython",
    "version": 3
   },
   "file_extension": ".py",
   "mimetype": "text/x-python",
   "name": "python",
   "nbconvert_exporter": "python",
   "pygments_lexer": "ipython3",
   "version": "3.8.5"
  }
 },
 "nbformat": 4,
 "nbformat_minor": 4
}
