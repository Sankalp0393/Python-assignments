{
 "cells": [
  {
   "cell_type": "markdown",
   "metadata": {},
   "source": [
    "### 1.\tWrite a Python Program to Display Fibonacci Sequence Using Recursion?"
   ]
  },
  {
   "cell_type": "code",
   "execution_count": 1,
   "metadata": {},
   "outputs": [],
   "source": [
    "def fibo_seq_using_recursion(num):\n",
    "    if num <= 1:\n",
    "        return num\n",
    "    else:\n",
    "        return (fibo_seq_using_recursion(num-1) + fibo_seq_using_recursion(num-2))"
   ]
  },
  {
   "cell_type": "code",
   "execution_count": 2,
   "metadata": {},
   "outputs": [
    {
     "name": "stdout",
     "output_type": "stream",
     "text": [
      "Fibonacci sequence: \n",
      "0 1 1 2 3 5 8 13 21 34 55 89 144 233 377 "
     ]
    }
   ],
   "source": [
    "no_of_terms = 15\n",
    "if no_of_terms <= 0:\n",
    "    print(\"Please enter a valid positive integer\")\n",
    "else:\n",
    "    print(\"Fibonacci sequence: \")\n",
    "    for i in range(no_of_terms):\n",
    "        print(fibo_seq_using_recursion(i), end=' ')"
   ]
  },
  {
   "cell_type": "markdown",
   "metadata": {},
   "source": [
    "### 2.\tWrite a Python Program to Find Factorial of Number Using Recursion?"
   ]
  },
  {
   "cell_type": "code",
   "execution_count": 4,
   "metadata": {},
   "outputs": [],
   "source": [
    "def factorial_using_recursion(num):\n",
    "    if num == 1:\n",
    "        return 1\n",
    "    else:\n",
    "        return (num * factorial_using_recursion(num-1))"
   ]
  },
  {
   "cell_type": "code",
   "execution_count": 5,
   "metadata": {},
   "outputs": [
    {
     "name": "stdout",
     "output_type": "stream",
     "text": [
      "The factorial of 3 is 6\n"
     ]
    }
   ],
   "source": [
    "number = 3\n",
    "print(\"The factorial of\", number, \"is\", factorial_using_recursion(number))"
   ]
  },
  {
   "cell_type": "code",
   "execution_count": 7,
   "metadata": {},
   "outputs": [
    {
     "name": "stdout",
     "output_type": "stream",
     "text": [
      "The factorial of 33 is 8683317618811886495518194401280000000\n"
     ]
    }
   ],
   "source": [
    "number = 33\n",
    "print(\"The factorial of\", number, \"is\", factorial_using_recursion(number))"
   ]
  },
  {
   "cell_type": "code",
   "execution_count": 8,
   "metadata": {},
   "outputs": [
    {
     "name": "stdout",
     "output_type": "stream",
     "text": [
      "The factorial of 94 is 108736615665674308027365285256786601004186803580182872307497374434045199869417927630229109214583415458560865651202385340530688000000000000000000000\n"
     ]
    }
   ],
   "source": [
    "number = 94\n",
    "print(\"The factorial of\", number, \"is\", factorial_using_recursion(number))"
   ]
  },
  {
   "cell_type": "markdown",
   "metadata": {},
   "source": [
    "### 3.\tWrite a Python Program to calculate your Body Mass Index?"
   ]
  },
  {
   "cell_type": "code",
   "execution_count": 15,
   "metadata": {},
   "outputs": [],
   "source": [
    "def bmi():\n",
    "    mass = int(input(\"Please enter your body weight in kilograms: \"))\n",
    "    height = int(input(\"Please enter your height in centimeters: \"))\n",
    "    return \"Your body weight is {} kg, height is {} cms and your BMI is {}\".format(mass, height, round((mass/((height/100)**2)),2))"
   ]
  },
  {
   "cell_type": "code",
   "execution_count": 16,
   "metadata": {},
   "outputs": [
    {
     "name": "stdout",
     "output_type": "stream",
     "text": [
      "Please enter your body weight in kilograms: 68\n",
      "Please enter your height in centimeters: 167\n"
     ]
    },
    {
     "data": {
      "text/plain": [
       "'Your body weight is 68 kg, height is 167 cms and your BMI is 24.38'"
      ]
     },
     "execution_count": 16,
     "metadata": {},
     "output_type": "execute_result"
    }
   ],
   "source": [
    "bmi()"
   ]
  },
  {
   "cell_type": "code",
   "execution_count": 17,
   "metadata": {},
   "outputs": [
    {
     "name": "stdout",
     "output_type": "stream",
     "text": [
      "Please enter your body weight in kilograms: 75\n",
      "Please enter your height in centimeters: 167\n"
     ]
    },
    {
     "data": {
      "text/plain": [
       "'Your body weight is 75 kg, height is 167 cms and your BMI is 26.89'"
      ]
     },
     "execution_count": 17,
     "metadata": {},
     "output_type": "execute_result"
    }
   ],
   "source": [
    "bmi()"
   ]
  },
  {
   "cell_type": "markdown",
   "metadata": {},
   "source": [
    "### 4.\tWrite a Python Program to calculate the natural logarithm of any number?"
   ]
  },
  {
   "cell_type": "code",
   "execution_count": 18,
   "metadata": {},
   "outputs": [
    {
     "name": "stdout",
     "output_type": "stream",
     "text": [
      "The logarithm of 10 to the base 5 is 1.4306765580733933\n"
     ]
    }
   ],
   "source": [
    "import math\n",
    "base = 5\n",
    "num = 10\n",
    "print(\"The logarithm of {} to the base {} is {}\".format(num, base, math.log(num, base)))"
   ]
  },
  {
   "cell_type": "code",
   "execution_count": 19,
   "metadata": {},
   "outputs": [
    {
     "name": "stdout",
     "output_type": "stream",
     "text": [
      "The logarithm of 10 to the base 10 is 1.0\n"
     ]
    }
   ],
   "source": [
    "base = 10\n",
    "num = 10\n",
    "print(\"The logarithm of {} to the base {} is {}\".format(num, base, math.log(num, base)))"
   ]
  },
  {
   "cell_type": "code",
   "execution_count": 20,
   "metadata": {},
   "outputs": [
    {
     "name": "stdout",
     "output_type": "stream",
     "text": [
      "The logarithm of 10 to the base 2 is 3.3219280948873626\n"
     ]
    }
   ],
   "source": [
    "base = 2\n",
    "num = 10\n",
    "print(\"The logarithm of {} to the base {} is {}\".format(num, base, math.log(num, base)))"
   ]
  },
  {
   "cell_type": "code",
   "execution_count": 21,
   "metadata": {},
   "outputs": [
    {
     "name": "stdout",
     "output_type": "stream",
     "text": [
      "The logarithm of 2 to the base 10 is 0.30102999566398114\n"
     ]
    }
   ],
   "source": [
    "base = 10\n",
    "num = 2\n",
    "print(\"The logarithm of {} to the base {} is {}\".format(num, base, math.log(num, base)))"
   ]
  },
  {
   "cell_type": "markdown",
   "metadata": {},
   "source": [
    "### 5.\tWrite a Python Program for cube sum of first n natural numbers?"
   ]
  },
  {
   "cell_type": "code",
   "execution_count": 22,
   "metadata": {},
   "outputs": [],
   "source": [
    "def sum_of_cube_of_first_n_numbers():\n",
    "    # taking user input for number of natural numbers\n",
    "    num = int(input(\"Please enter the number upto which sum of cube is required: \"))\n",
    "    \n",
    "    #initializing sum variable\n",
    "    sum_of_cube_of_numbers = 0\n",
    "    for i in range(1, num+1):\n",
    "        sum_of_cube_of_numbers = sum_of_cube_of_numbers + (i*i*i)\n",
    "        \n",
    "    return \"The sum of cube of first {n} natural numbers is {s}\".format(n=num, s=sum_of_cube_of_numbers)"
   ]
  },
  {
   "cell_type": "code",
   "execution_count": 23,
   "metadata": {},
   "outputs": [
    {
     "name": "stdout",
     "output_type": "stream",
     "text": [
      "Please enter the number upto which sum of cube is required: 5\n"
     ]
    },
    {
     "data": {
      "text/plain": [
       "'The sum of cube of first 5 natural numbers is 225'"
      ]
     },
     "execution_count": 23,
     "metadata": {},
     "output_type": "execute_result"
    }
   ],
   "source": [
    "sum_of_cube_of_first_n_numbers()"
   ]
  },
  {
   "cell_type": "code",
   "execution_count": 24,
   "metadata": {},
   "outputs": [
    {
     "name": "stdout",
     "output_type": "stream",
     "text": [
      "Please enter the number upto which sum of cube is required: 10\n"
     ]
    },
    {
     "data": {
      "text/plain": [
       "'The sum of cube of first 10 natural numbers is 3025'"
      ]
     },
     "execution_count": 24,
     "metadata": {},
     "output_type": "execute_result"
    }
   ],
   "source": [
    "sum_of_cube_of_first_n_numbers()"
   ]
  },
  {
   "cell_type": "code",
   "execution_count": 25,
   "metadata": {},
   "outputs": [
    {
     "name": "stdout",
     "output_type": "stream",
     "text": [
      "Please enter the number upto which sum of cube is required: 115\n"
     ]
    },
    {
     "data": {
      "text/plain": [
       "'The sum of cube of first 115 natural numbers is 44488900'"
      ]
     },
     "execution_count": 25,
     "metadata": {},
     "output_type": "execute_result"
    }
   ],
   "source": [
    "sum_of_cube_of_first_n_numbers()"
   ]
  },
  {
   "cell_type": "code",
   "execution_count": 26,
   "metadata": {},
   "outputs": [
    {
     "name": "stdout",
     "output_type": "stream",
     "text": [
      "Please enter the number upto which sum of cube is required: 110065595\n"
     ]
    },
    {
     "data": {
      "text/plain": [
       "'The sum of cube of first 110065595 natural numbers is 36689885736819890188558798736100'"
      ]
     },
     "execution_count": 26,
     "metadata": {},
     "output_type": "execute_result"
    }
   ],
   "source": [
    "sum_of_cube_of_first_n_numbers()"
   ]
  },
  {
   "cell_type": "code",
   "execution_count": null,
   "metadata": {},
   "outputs": [],
   "source": []
  }
 ],
 "metadata": {
  "kernelspec": {
   "display_name": "Python 3",
   "language": "python",
   "name": "python3"
  },
  "language_info": {
   "codemirror_mode": {
    "name": "ipython",
    "version": 3
   },
   "file_extension": ".py",
   "mimetype": "text/x-python",
   "name": "python",
   "nbconvert_exporter": "python",
   "pygments_lexer": "ipython3",
   "version": "3.8.5"
  }
 },
 "nbformat": 4,
 "nbformat_minor": 4
}
