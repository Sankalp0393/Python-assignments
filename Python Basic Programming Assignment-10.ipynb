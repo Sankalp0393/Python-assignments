{
 "cells": [
  {
   "cell_type": "markdown",
   "metadata": {},
   "source": [
    "### 1.\tWrite a Python program to find sum of elements in list?"
   ]
  },
  {
   "cell_type": "code",
   "execution_count": 1,
   "metadata": {},
   "outputs": [
    {
     "name": "stdout",
     "output_type": "stream",
     "text": [
      "The sum of elements in the list [1, 4, 6, 8, 9, 3, 7, 85, 4, 29, 85, 14, 2] is 257\n"
     ]
    }
   ],
   "source": [
    "mylist = [1,4,6,8,9,3,7,85,4,29,85,14,2]\n",
    "summation = 0\n",
    "for i in mylist:\n",
    "    summation += i\n",
    "print(\"The sum of elements in the list {} is {}\".format(mylist, summation))"
   ]
  },
  {
   "cell_type": "code",
   "execution_count": 4,
   "metadata": {},
   "outputs": [
    {
     "name": "stdout",
     "output_type": "stream",
     "text": [
      "The sum of elements in the list [1, 2, 3, 4, 5, 6, 7, 8, 9, 10] is 55\n"
     ]
    }
   ],
   "source": [
    "mylist = [i for i in range(1,11)]\n",
    "summation = 0\n",
    "for i in mylist:\n",
    "    summation += i\n",
    "print(\"The sum of elements in the list {} is {}\".format(mylist, summation))"
   ]
  },
  {
   "cell_type": "code",
   "execution_count": 5,
   "metadata": {},
   "outputs": [
    {
     "name": "stdout",
     "output_type": "stream",
     "text": [
      "The sum of elements in the list [1, 2, 3, 4, 5, 6, 7, 8, 9, 10, 11, 12, 13, 14, 15, 16, 17, 18, 19, 20, 21, 22, 23, 24, 25, 26, 27, 28, 29, 30, 31, 32, 33, 34, 35, 36, 37, 38, 39, 40, 41, 42, 43, 44, 45, 46, 47, 48, 49, 50, 51, 52, 53, 54, 55, 56, 57, 58, 59, 60, 61, 62, 63, 64, 65, 66, 67, 68, 69, 70, 71, 72, 73, 74, 75, 76, 77, 78, 79, 80, 81, 82, 83, 84, 85, 86, 87, 88, 89, 90, 91, 92, 93, 94, 95, 96, 97, 98, 99, 100] is 5050\n"
     ]
    }
   ],
   "source": [
    "mylist = [i for i in range(1,101)]\n",
    "summation = 0\n",
    "for i in mylist:\n",
    "    summation += i\n",
    "print(\"The sum of elements in the list {} is {}\".format(mylist, summation))"
   ]
  },
  {
   "cell_type": "markdown",
   "metadata": {},
   "source": [
    "### 2.\tWrite a Python program to  Multiply all numbers in the list?"
   ]
  },
  {
   "cell_type": "code",
   "execution_count": 6,
   "metadata": {},
   "outputs": [
    {
     "name": "stdout",
     "output_type": "stream",
     "text": [
      "The multiplication of elements in the list [1, 4, 6, 8, 9, 3, 7, 85, 4, 29, 85, 14, 2] is 851563238400\n"
     ]
    }
   ],
   "source": [
    "mylist = [1,4,6,8,9,3,7,85,4,29,85,14,2]\n",
    "prod = 1\n",
    "for i in mylist:\n",
    "    prod = prod * i\n",
    "print(\"The multiplication of elements in the list {} is {}\".format(mylist, prod))"
   ]
  },
  {
   "cell_type": "code",
   "execution_count": 1,
   "metadata": {},
   "outputs": [
    {
     "name": "stdout",
     "output_type": "stream",
     "text": [
      "The multiplication of elements in the list [1, 2, 3, 4, 5, 6, 7, 8, 9, 10] is 3628800\n"
     ]
    }
   ],
   "source": [
    "mylist = [i for i in range(1,11)]\n",
    "prod = 1\n",
    "for i in mylist:\n",
    "    prod = prod * i\n",
    "print(\"The multiplication of elements in the list {} is {}\".format(mylist, prod))"
   ]
  },
  {
   "cell_type": "markdown",
   "metadata": {},
   "source": [
    "### 3.\tWrite a Python program to find smallest number in a list?"
   ]
  },
  {
   "cell_type": "code",
   "execution_count": 2,
   "metadata": {},
   "outputs": [
    {
     "name": "stdout",
     "output_type": "stream",
     "text": [
      "The smallest of elements in the list [1, 4, 6, 8, 9, 3, 7, 85, 4, 29, 85, 14, 2] is 1\n"
     ]
    }
   ],
   "source": [
    "mylist = [1,4,6,8,9,3,7,85,4,29,85,14,2]\n",
    "smallest = mylist[0]\n",
    "for i in mylist:\n",
    "    if i < smallest:\n",
    "        smallest = i\n",
    "print(\"The smallest of elements in the list {} is {}\".format(mylist, smallest))"
   ]
  },
  {
   "cell_type": "code",
   "execution_count": 3,
   "metadata": {},
   "outputs": [
    {
     "name": "stdout",
     "output_type": "stream",
     "text": [
      "The smallest of elements in the list [9895, 465, 647, 81, 9468, 39, 765, 85, 564, 29, 85, 14, 562] is 14\n"
     ]
    }
   ],
   "source": [
    "mylist = [9895,465,647,81,9468,39,765,85,564,29,85,14,562]\n",
    "smallest = mylist[0]\n",
    "for i in mylist:\n",
    "    if i < smallest:\n",
    "        smallest = i\n",
    "print(\"The smallest of elements in the list {} is {}\".format(mylist, smallest))"
   ]
  },
  {
   "cell_type": "markdown",
   "metadata": {},
   "source": [
    "### 4.\tWrite a Python program to find largest number in a list?"
   ]
  },
  {
   "cell_type": "code",
   "execution_count": 4,
   "metadata": {},
   "outputs": [
    {
     "name": "stdout",
     "output_type": "stream",
     "text": [
      "The largest of elements in the list [1, 4, 6, 8, 9, 3, 7, 85, 4, 29, 85, 14, 2] is 85\n"
     ]
    }
   ],
   "source": [
    "mylist = [1,4,6,8,9,3,7,85,4,29,85,14,2]\n",
    "largest = mylist[0]\n",
    "for i in mylist:\n",
    "    if i > largest:\n",
    "        largest = i\n",
    "print(\"The largest of elements in the list {} is {}\".format(mylist, largest))"
   ]
  },
  {
   "cell_type": "code",
   "execution_count": 5,
   "metadata": {},
   "outputs": [
    {
     "name": "stdout",
     "output_type": "stream",
     "text": [
      "The largest of elements in the list [9895, 465, 647, 81, 9468, 39, 765, 85, 564, 29, 85, 14, 562] is 9895\n"
     ]
    }
   ],
   "source": [
    "mylist = [9895,465,647,81,9468,39,765,85,564,29,85,14,562]\n",
    "largest = mylist[0]\n",
    "for i in mylist:\n",
    "    if i > largest:\n",
    "        largest = i\n",
    "print(\"The largest of elements in the list {} is {}\".format(mylist, largest))"
   ]
  },
  {
   "cell_type": "markdown",
   "metadata": {},
   "source": [
    "### 5.\tWrite a Python program to find second largest number in a list?"
   ]
  },
  {
   "cell_type": "code",
   "execution_count": 6,
   "metadata": {},
   "outputs": [],
   "source": [
    "def second_largest(mylist):\n",
    "    # to get unique elements\n",
    "    new_list = set(mylist)\n",
    "    # removing the largest element from list\n",
    "    new_list.remove(max(new_list))\n",
    "    print(max(new_list))"
   ]
  },
  {
   "cell_type": "code",
   "execution_count": 7,
   "metadata": {},
   "outputs": [
    {
     "name": "stdout",
     "output_type": "stream",
     "text": [
      "29\n"
     ]
    }
   ],
   "source": [
    "mylist = [1,4,6,8,9,3,7,85,4,29,85,14,2]\n",
    "second_largest(mylist)"
   ]
  },
  {
   "cell_type": "code",
   "execution_count": 8,
   "metadata": {},
   "outputs": [
    {
     "name": "stdout",
     "output_type": "stream",
     "text": [
      "9468\n"
     ]
    }
   ],
   "source": [
    "mylist = [9895,465,647,81,9468,39,765,85,564,29,85,14,562]\n",
    "second_largest(mylist)"
   ]
  },
  {
   "cell_type": "code",
   "execution_count": 10,
   "metadata": {},
   "outputs": [
    {
     "name": "stdout",
     "output_type": "stream",
     "text": [
      "9\n"
     ]
    }
   ],
   "source": [
    "list1 = [1,2,3,4,5,6,7,8,9,10]\n",
    "second_largest(list1)"
   ]
  },
  {
   "cell_type": "markdown",
   "metadata": {},
   "source": [
    "### 6.\tWrite a Python program to find N largest elements from a list?"
   ]
  },
  {
   "cell_type": "code",
   "execution_count": 11,
   "metadata": {},
   "outputs": [],
   "source": [
    "def Nth_largest(mylist):\n",
    "    n = int(input(\"Enter the value of Nth largest element to find: \"))\n",
    "    new_list = set(mylist)\n",
    "    for i in range(1,n):\n",
    "        new_list.remove(max(new_list))\n",
    "    print(\"The {} largest element of the list {} is {}\".format(n, mylist, max(new_list)))"
   ]
  },
  {
   "cell_type": "code",
   "execution_count": 12,
   "metadata": {},
   "outputs": [
    {
     "name": "stdout",
     "output_type": "stream",
     "text": [
      "Enter the value of Nth largest element to find: 3\n",
      "The 3 largest element of the list [1, 2, 3, 4, 5, 6, 7, 8, 9, 10] is 8\n"
     ]
    }
   ],
   "source": [
    "list1 = [1,2,3,4,5,6,7,8,9,10]\n",
    "Nth_largest(list1)"
   ]
  },
  {
   "cell_type": "code",
   "execution_count": 13,
   "metadata": {},
   "outputs": [
    {
     "name": "stdout",
     "output_type": "stream",
     "text": [
      "Enter the value of Nth largest element to find: 5\n",
      "The 5 largest element of the list [1, 2, 3, 4, 5, 6, 7, 8, 9, 10] is 6\n"
     ]
    }
   ],
   "source": [
    "Nth_largest(list1)"
   ]
  },
  {
   "cell_type": "markdown",
   "metadata": {},
   "source": [
    "### 7.\tWrite a Python program to print even numbers in a list?"
   ]
  },
  {
   "cell_type": "code",
   "execution_count": 16,
   "metadata": {},
   "outputs": [],
   "source": [
    "def even_num_in_list(mylist):\n",
    "    print(\"The even numbers in the list {} are: \".format(mylist))\n",
    "    for i in mylist:\n",
    "        if i%2 == 0:\n",
    "            print(i, end=' ')"
   ]
  },
  {
   "cell_type": "code",
   "execution_count": 17,
   "metadata": {},
   "outputs": [
    {
     "name": "stdout",
     "output_type": "stream",
     "text": [
      "The even numbers in the list [1, 2, 3, 4, 5, 6, 7, 8, 9, 10] are: \n",
      "2 4 6 8 10 "
     ]
    }
   ],
   "source": [
    "even_num_in_list(list1)"
   ]
  },
  {
   "cell_type": "code",
   "execution_count": 18,
   "metadata": {},
   "outputs": [
    {
     "data": {
      "text/plain": [
       "[9895, 465, 647, 81, 9468, 39, 765, 85, 564, 29, 85, 14, 562]"
      ]
     },
     "execution_count": 18,
     "metadata": {},
     "output_type": "execute_result"
    }
   ],
   "source": [
    "mylist"
   ]
  },
  {
   "cell_type": "code",
   "execution_count": 19,
   "metadata": {},
   "outputs": [
    {
     "name": "stdout",
     "output_type": "stream",
     "text": [
      "The even numbers in the list [9895, 465, 647, 81, 9468, 39, 765, 85, 564, 29, 85, 14, 562] are: \n",
      "9468 564 14 562 "
     ]
    }
   ],
   "source": [
    "even_num_in_list(mylist)"
   ]
  },
  {
   "cell_type": "markdown",
   "metadata": {},
   "source": [
    "### 8.\tWrite a Python program to print odd numbers in a List?"
   ]
  },
  {
   "cell_type": "code",
   "execution_count": 20,
   "metadata": {},
   "outputs": [],
   "source": [
    "def odd_num_in_list(mylist):\n",
    "    print(\"The odd numbers in the list {} are: \".format(mylist))\n",
    "    for i in mylist:\n",
    "        if i%2 != 0:\n",
    "            print(i, end=' ')"
   ]
  },
  {
   "cell_type": "code",
   "execution_count": 21,
   "metadata": {},
   "outputs": [
    {
     "data": {
      "text/plain": [
       "[1, 2, 3, 4, 5, 6, 7, 8, 9, 10]"
      ]
     },
     "execution_count": 21,
     "metadata": {},
     "output_type": "execute_result"
    }
   ],
   "source": [
    "list1"
   ]
  },
  {
   "cell_type": "code",
   "execution_count": 22,
   "metadata": {},
   "outputs": [
    {
     "name": "stdout",
     "output_type": "stream",
     "text": [
      "The odd numbers in the list [1, 2, 3, 4, 5, 6, 7, 8, 9, 10] are: \n",
      "1 3 5 7 9 "
     ]
    }
   ],
   "source": [
    "odd_num_in_list(list1)"
   ]
  },
  {
   "cell_type": "code",
   "execution_count": 23,
   "metadata": {},
   "outputs": [
    {
     "data": {
      "text/plain": [
       "[9895, 465, 647, 81, 9468, 39, 765, 85, 564, 29, 85, 14, 562]"
      ]
     },
     "execution_count": 23,
     "metadata": {},
     "output_type": "execute_result"
    }
   ],
   "source": [
    "mylist"
   ]
  },
  {
   "cell_type": "code",
   "execution_count": 24,
   "metadata": {},
   "outputs": [
    {
     "name": "stdout",
     "output_type": "stream",
     "text": [
      "The odd numbers in the list [9895, 465, 647, 81, 9468, 39, 765, 85, 564, 29, 85, 14, 562] are: \n",
      "9895 465 647 81 39 765 85 29 85 "
     ]
    }
   ],
   "source": [
    "odd_num_in_list(mylist)"
   ]
  },
  {
   "cell_type": "markdown",
   "metadata": {},
   "source": [
    "### 9.\tWrite a Python program to Remove empty List from List?"
   ]
  },
  {
   "cell_type": "code",
   "execution_count": 40,
   "metadata": {},
   "outputs": [],
   "source": [
    "def remove_empty_list_from_list(mylist):\n",
    "    print(\"The given list: \", mylist)\n",
    "    for i in mylist:\n",
    "        if type(i) == list:\n",
    "            if len(i) == 0:\n",
    "                mylist.remove(i)\n",
    "    print(\"List after removal of empty lists from the given list: \", mylist)"
   ]
  },
  {
   "cell_type": "code",
   "execution_count": 41,
   "metadata": {},
   "outputs": [
    {
     "name": "stdout",
     "output_type": "stream",
     "text": [
      "The given list:  [1, 2, 3, [], 4, 5, [8, 7, 6], 'x', [], 14]\n",
      "List after removal of empty lists from the given list:  [1, 2, 3, 4, 5, [8, 7, 6], 'x', 14]\n"
     ]
    }
   ],
   "source": [
    "list2 = [1,2,3,[],4,5,[8,7,6],'x',[],14]\n",
    "remove_empty_list_from_list(list2)"
   ]
  },
  {
   "cell_type": "code",
   "execution_count": 42,
   "metadata": {},
   "outputs": [
    {
     "name": "stdout",
     "output_type": "stream",
     "text": [
      "The given list:  ['a', 5, 7, 2, 43, [], [1], 4, 534, []]\n",
      "List after removal of empty lists from the given list:  ['a', 5, 7, 2, 43, [1], 4, 534]\n"
     ]
    }
   ],
   "source": [
    "list3 = ['a',5,7,2,43,[],[1],4,534,[]]\n",
    "remove_empty_list_from_list(list3)"
   ]
  },
  {
   "cell_type": "markdown",
   "metadata": {},
   "source": [
    "### 10.\tWrite a Python program to Cloning or Copying a list?"
   ]
  },
  {
   "cell_type": "code",
   "execution_count": 44,
   "metadata": {},
   "outputs": [
    {
     "name": "stdout",
     "output_type": "stream",
     "text": [
      "Original list:  [1, 2, 3, 4, 5, 6, 7, 8, 9, 10]\n",
      "Copied list:  [1, 2, 3, 4, 5, 6, 7, 8, 9, 10]\n"
     ]
    }
   ],
   "source": [
    "list1 = [1,2,3,4,5,6,7,8,9,10]\n",
    "print(\"Original list: \", list1)\n",
    "copied_list = []\n",
    "for i in list1:\n",
    "    copied_list.append(i)\n",
    "print(\"Copied list: \", copied_list)"
   ]
  },
  {
   "cell_type": "markdown",
   "metadata": {},
   "source": [
    "### 11.\tWrite a Python program to Count occurrences of an element in a list?"
   ]
  },
  {
   "cell_type": "code",
   "execution_count": 3,
   "metadata": {},
   "outputs": [],
   "source": [
    "def count_occurance(my_list):\n",
    "    element = input(\"Please eneter the element to find: \")\n",
    "    duplicate_nos =[]\n",
    "    for i in my_list:\n",
    "        if str(i) == element:\n",
    "            duplicate_nos.append(i)\n",
    "    print(\"The element {} is occurring {} times in the given list {}\".format(element, len(duplicate_nos), my_list))"
   ]
  },
  {
   "cell_type": "code",
   "execution_count": 4,
   "metadata": {},
   "outputs": [
    {
     "name": "stdout",
     "output_type": "stream",
     "text": [
      "Please eneter the element to find: 3\n",
      "The element 3 is occurring 4 times in the given list [1, 2, 3, 4, 5, 2, 3, 4, 6, 7, 3, 4, 5, 6, 7, 8, 9, 2, 3]\n"
     ]
    }
   ],
   "source": [
    "my_list = [1,2,3,4,5,2,3,4,6,7,3,4,5,6,7,8,9,2,3]\n",
    "count_occurance(my_list)"
   ]
  },
  {
   "cell_type": "code",
   "execution_count": 5,
   "metadata": {},
   "outputs": [
    {
     "name": "stdout",
     "output_type": "stream",
     "text": [
      "Please eneter the element to find: 9\n",
      "The element 9 is occurring 1 times in the given list [1, 2, 3, 4, 5, 2, 3, 4, 6, 7, 3, 4, 5, 6, 7, 8, 9, 2, 3]\n"
     ]
    }
   ],
   "source": [
    "my_list = [1,2,3,4,5,2,3,4,6,7,3,4,5,6,7,8,9,2,3]\n",
    "count_occurance(my_list)"
   ]
  },
  {
   "cell_type": "code",
   "execution_count": 6,
   "metadata": {},
   "outputs": [
    {
     "name": "stdout",
     "output_type": "stream",
     "text": [
      "Please eneter the element to find: a\n",
      "The element a is occurring 2 times in the given list ['a', 'b', 1, 2, 3, 'x', 'a', 'x', 3, 4, 5]\n"
     ]
    }
   ],
   "source": [
    "my_list1= ['a','b',1,2,3,'x','a','x',3,4,5]\n",
    "count_occurance(my_list1)"
   ]
  },
  {
   "cell_type": "code",
   "execution_count": 7,
   "metadata": {},
   "outputs": [
    {
     "name": "stdout",
     "output_type": "stream",
     "text": [
      "Please eneter the element to find: 8\n",
      "The element 8 is occurring 0 times in the given list ['a', 'b', 1, 2, 3, 'x', 'a', 'x', 3, 4, 5]\n"
     ]
    }
   ],
   "source": [
    "my_list1= ['a','b',1,2,3,'x','a','x',3,4,5]\n",
    "count_occurance(my_list1)"
   ]
  },
  {
   "cell_type": "code",
   "execution_count": null,
   "metadata": {},
   "outputs": [],
   "source": []
  }
 ],
 "metadata": {
  "kernelspec": {
   "display_name": "Python 3",
   "language": "python",
   "name": "python3"
  },
  "language_info": {
   "codemirror_mode": {
    "name": "ipython",
    "version": 3
   },
   "file_extension": ".py",
   "mimetype": "text/x-python",
   "name": "python",
   "nbconvert_exporter": "python",
   "pygments_lexer": "ipython3",
   "version": "3.8.5"
  }
 },
 "nbformat": 4,
 "nbformat_minor": 4
}
