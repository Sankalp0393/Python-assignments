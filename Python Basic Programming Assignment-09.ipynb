{
 "cells": [
  {
   "cell_type": "markdown",
   "metadata": {},
   "source": [
    "### 1.\tWrite a Python program to check if the given number is a Disarium Number?"
   ]
  },
  {
   "cell_type": "code",
   "execution_count": 1,
   "metadata": {},
   "outputs": [],
   "source": [
    "def check_Disarium():\n",
    "    num = int(input(\"Please enter a number: \"))\n",
    "    str_num = str(num)\n",
    "    summation = 0\n",
    "    if (num!=0):\n",
    "        for i in range(len(str_num)):\n",
    "            powr = (int(str_num[i]))**(i+1)\n",
    "            summation += powr\n",
    "    \n",
    "    if summation == num:\n",
    "        return \"The number {} is a Disarium number\".format(num)\n",
    "    else:\n",
    "        return \"The number {} is not a Disarium number\".format(num)"
   ]
  },
  {
   "cell_type": "code",
   "execution_count": 2,
   "metadata": {},
   "outputs": [
    {
     "name": "stdout",
     "output_type": "stream",
     "text": [
      "Please enter a number: 12\n"
     ]
    },
    {
     "data": {
      "text/plain": [
       "'The number 12 is not a Disarium number'"
      ]
     },
     "execution_count": 2,
     "metadata": {},
     "output_type": "execute_result"
    }
   ],
   "source": [
    "check_Disarium()"
   ]
  },
  {
   "cell_type": "code",
   "execution_count": 3,
   "metadata": {},
   "outputs": [
    {
     "name": "stdout",
     "output_type": "stream",
     "text": [
      "Please enter a number: 80\n"
     ]
    },
    {
     "data": {
      "text/plain": [
       "'The number 80 is not a Disarium number'"
      ]
     },
     "execution_count": 3,
     "metadata": {},
     "output_type": "execute_result"
    }
   ],
   "source": [
    "check_Disarium()"
   ]
  },
  {
   "cell_type": "code",
   "execution_count": 4,
   "metadata": {},
   "outputs": [
    {
     "name": "stdout",
     "output_type": "stream",
     "text": [
      "Please enter a number: 89\n"
     ]
    },
    {
     "data": {
      "text/plain": [
       "'The number 89 is a Disarium number'"
      ]
     },
     "execution_count": 4,
     "metadata": {},
     "output_type": "execute_result"
    }
   ],
   "source": [
    "check_Disarium()"
   ]
  },
  {
   "cell_type": "markdown",
   "metadata": {},
   "source": [
    "### 2.\tWrite a Python program to print all disarium numbers between 1 to 100?"
   ]
  },
  {
   "cell_type": "code",
   "execution_count": 7,
   "metadata": {},
   "outputs": [],
   "source": [
    "def print_Disarium():\n",
    "    lower = int(input(\"Please enter the lower range: \"))\n",
    "    upper = int(input(\"Please enter the upper range: \"))\n",
    "\n",
    "    print(\"The Disarium numbers between {} to {} are: \".format(lower,upper))\n",
    "    for num in range(lower, upper+1):\n",
    "        str_num = str(num)\n",
    "        summation = 0\n",
    "        if (num!=0):\n",
    "            for i in range(len(str_num)):\n",
    "                powr = (int(str_num[i]))**(i+1)\n",
    "                summation += powr\n",
    "                \n",
    "            if summation == num:\n",
    "                print(num, end=' ')"
   ]
  },
  {
   "cell_type": "code",
   "execution_count": 8,
   "metadata": {},
   "outputs": [
    {
     "name": "stdout",
     "output_type": "stream",
     "text": [
      "Please enter the lower range: 1\n",
      "Please enter the upper range: 100\n",
      "The Disarium numbers between 1 to 100 are: \n",
      "1 2 3 4 5 6 7 8 9 89 "
     ]
    }
   ],
   "source": [
    "print_Disarium()"
   ]
  },
  {
   "cell_type": "code",
   "execution_count": 9,
   "metadata": {},
   "outputs": [
    {
     "name": "stdout",
     "output_type": "stream",
     "text": [
      "Please enter the lower range: 1\n",
      "Please enter the upper range: 1000\n",
      "The Disarium numbers between 1 to 1000 are: \n",
      "1 2 3 4 5 6 7 8 9 89 135 175 518 598 "
     ]
    }
   ],
   "source": [
    "print_Disarium()"
   ]
  },
  {
   "cell_type": "markdown",
   "metadata": {},
   "source": [
    "### 3.\tWrite a Python program to check if the given number is Happy Number?"
   ]
  },
  {
   "cell_type": "code",
   "execution_count": 13,
   "metadata": {},
   "outputs": [],
   "source": [
    "def is_Happy_num(num):\n",
    "    past = set()\n",
    "    while num != 1:\n",
    "        num = sum(int(i)**2 for i in str(num))\n",
    "        if num in past:\n",
    "            return False\n",
    "        past.add(num)\n",
    "    return True"
   ]
  },
  {
   "cell_type": "code",
   "execution_count": 14,
   "metadata": {},
   "outputs": [
    {
     "data": {
      "text/plain": [
       "True"
      ]
     },
     "execution_count": 14,
     "metadata": {},
     "output_type": "execute_result"
    }
   ],
   "source": [
    "is_Happy_num(1)"
   ]
  },
  {
   "cell_type": "code",
   "execution_count": 15,
   "metadata": {},
   "outputs": [
    {
     "data": {
      "text/plain": [
       "False"
      ]
     },
     "execution_count": 15,
     "metadata": {},
     "output_type": "execute_result"
    }
   ],
   "source": [
    "is_Happy_num(11)"
   ]
  },
  {
   "cell_type": "code",
   "execution_count": 16,
   "metadata": {},
   "outputs": [
    {
     "data": {
      "text/plain": [
       "False"
      ]
     },
     "execution_count": 16,
     "metadata": {},
     "output_type": "execute_result"
    }
   ],
   "source": [
    "is_Happy_num(89)"
   ]
  },
  {
   "cell_type": "code",
   "execution_count": 17,
   "metadata": {},
   "outputs": [
    {
     "data": {
      "text/plain": [
       "False"
      ]
     },
     "execution_count": 17,
     "metadata": {},
     "output_type": "execute_result"
    }
   ],
   "source": [
    "is_Happy_num(6)"
   ]
  },
  {
   "cell_type": "code",
   "execution_count": 18,
   "metadata": {},
   "outputs": [
    {
     "data": {
      "text/plain": [
       "True"
      ]
     },
     "execution_count": 18,
     "metadata": {},
     "output_type": "execute_result"
    }
   ],
   "source": [
    "is_Happy_num(7)"
   ]
  },
  {
   "cell_type": "markdown",
   "metadata": {},
   "source": [
    "### 4.\tWrite a Python program to print all happy numbers between 1 and 100?\n"
   ]
  },
  {
   "cell_type": "code",
   "execution_count": 24,
   "metadata": {},
   "outputs": [
    {
     "name": "stdout",
     "output_type": "stream",
     "text": [
      "Please enter the lower range: 1\n",
      "Please enter the upper range: 100\n",
      "The Happy numbers between 1 to 100 are: \n",
      "1 7 10 13 19 23 28 31 32 44 49 68 70 79 82 86 91 94 97 100 "
     ]
    }
   ],
   "source": [
    "def is_Happy_num(num):\n",
    "    past = set()\n",
    "    while num != 1:\n",
    "        num = sum(int(i)**2 for i in str(num))\n",
    "        if num in past:\n",
    "            return False\n",
    "        past.add(num)\n",
    "    return True\n",
    "\n",
    "\n",
    "lower = int(input(\"Please enter the lower range: \"))\n",
    "upper = int(input(\"Please enter the upper range: \"))\n",
    "print(\"The Happy numbers between {} to {} are: \".format(lower,upper))\n",
    "\n",
    "for num in range(lower, upper+1):\n",
    "    if is_Happy_num(num):\n",
    "        print(num, end=' ')"
   ]
  },
  {
   "cell_type": "markdown",
   "metadata": {},
   "source": [
    "### 5.\tWrite a Python program to determine whether the given number is a Harshad Number?"
   ]
  },
  {
   "cell_type": "code",
   "execution_count": 30,
   "metadata": {},
   "outputs": [],
   "source": [
    "def is_Harshad_num(num):\n",
    "    '''\n",
    "    If a number is divisible by the sum of its digits, then it is called a Harshad Number.\n",
    "    This function determines whether a number is Harshad number.\n",
    "    '''\n",
    "    str_num = str(num)\n",
    "    sum_of_digits = 0\n",
    "    \n",
    "    for i in str_num:\n",
    "        sum_of_digits += int(i)\n",
    "        \n",
    "    if (num % sum_of_digits) == 0:\n",
    "        return \"The number {} is Harshad Number\".format(num)\n",
    "    else:\n",
    "        return \"The number {} is not a Harshad Number\".format(num)"
   ]
  },
  {
   "cell_type": "code",
   "execution_count": 31,
   "metadata": {},
   "outputs": [
    {
     "data": {
      "text/plain": [
       "'The number 1 is Harshad Number'"
      ]
     },
     "execution_count": 31,
     "metadata": {},
     "output_type": "execute_result"
    }
   ],
   "source": [
    "is_Harshad_num(1)"
   ]
  },
  {
   "cell_type": "code",
   "execution_count": 32,
   "metadata": {},
   "outputs": [
    {
     "data": {
      "text/plain": [
       "'The number 6 is Harshad Number'"
      ]
     },
     "execution_count": 32,
     "metadata": {},
     "output_type": "execute_result"
    }
   ],
   "source": [
    "is_Harshad_num(6)"
   ]
  },
  {
   "cell_type": "code",
   "execution_count": 33,
   "metadata": {},
   "outputs": [
    {
     "data": {
      "text/plain": [
       "'The number 54 is Harshad Number'"
      ]
     },
     "execution_count": 33,
     "metadata": {},
     "output_type": "execute_result"
    }
   ],
   "source": [
    "is_Harshad_num(54)"
   ]
  },
  {
   "cell_type": "code",
   "execution_count": 34,
   "metadata": {},
   "outputs": [
    {
     "data": {
      "text/plain": [
       "'The number 66 is not a Harshad Number'"
      ]
     },
     "execution_count": 34,
     "metadata": {},
     "output_type": "execute_result"
    }
   ],
   "source": [
    "is_Harshad_num(66)"
   ]
  },
  {
   "cell_type": "markdown",
   "metadata": {},
   "source": [
    "### 6.\tWrite a Python program to print all pronic numbers between 1 and 100?"
   ]
  },
  {
   "cell_type": "code",
   "execution_count": 35,
   "metadata": {},
   "outputs": [],
   "source": [
    "def is_Pronic_num(num):\n",
    "    flag = False\n",
    "    \n",
    "    for i in range(1, num):\n",
    "        #Checks for pronic number by multiplying consecutive numbers\n",
    "        if((i*(i+1)) == num):\n",
    "            flag = True\n",
    "            break\n",
    "    return flag"
   ]
  },
  {
   "cell_type": "code",
   "execution_count": 36,
   "metadata": {},
   "outputs": [
    {
     "data": {
      "text/plain": [
       "True"
      ]
     },
     "execution_count": 36,
     "metadata": {},
     "output_type": "execute_result"
    }
   ],
   "source": [
    "is_Pronic_num(6)"
   ]
  },
  {
   "cell_type": "code",
   "execution_count": 37,
   "metadata": {},
   "outputs": [
    {
     "name": "stdout",
     "output_type": "stream",
     "text": [
      "Pronic numbers between 1 and 100: \n",
      "2 6 12 20 30 42 56 72 90 "
     ]
    }
   ],
   "source": [
    "print(\"Pronic numbers between 1 and 100: \")   \n",
    "for i in range(1, 101):\n",
    "    if(is_Pronic_num(i)):\n",
    "        print(i, end=' ')"
   ]
  },
  {
   "cell_type": "code",
   "execution_count": null,
   "metadata": {},
   "outputs": [],
   "source": []
  }
 ],
 "metadata": {
  "kernelspec": {
   "display_name": "Python 3",
   "language": "python",
   "name": "python3"
  },
  "language_info": {
   "codemirror_mode": {
    "name": "ipython",
    "version": 3
   },
   "file_extension": ".py",
   "mimetype": "text/x-python",
   "name": "python",
   "nbconvert_exporter": "python",
   "pygments_lexer": "ipython3",
   "version": "3.8.5"
  }
 },
 "nbformat": 4,
 "nbformat_minor": 4
}
